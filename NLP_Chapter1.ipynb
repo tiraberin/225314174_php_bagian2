{
  "nbformat": 4,
  "nbformat_minor": 0,
  "metadata": {
    "colab": {
      "provenance": [],
      "authorship_tag": "ABX9TyPlPlVqN8T0atas5BZr726L",
      "include_colab_link": true
    },
    "kernelspec": {
      "name": "python3",
      "display_name": "Python 3"
    },
    "language_info": {
      "name": "python"
    }
  },
  "cells": [
    {
      "cell_type": "markdown",
      "metadata": {
        "id": "view-in-github",
        "colab_type": "text"
      },
      "source": [
        "<a href=\"https://colab.research.google.com/github/tiraberin/225314174_php_bagian2/blob/main/NLP_Chapter1.ipynb\" target=\"_parent\"><img src=\"https://colab.research.google.com/assets/colab-badge.svg\" alt=\"Open In Colab\"/></a>"
      ]
    },
    {
      "cell_type": "code",
      "execution_count": 1,
      "metadata": {
        "id": "F2CJiKmbLyRf"
      },
      "outputs": [],
      "source": [
        "## melakukan import library nltk\n",
        "import nltk"
      ]
    },
    {
      "cell_type": "code",
      "source": [
        "## menguduh data book dari nltk\n",
        "nltk.download('book')"
      ],
      "metadata": {
        "colab": {
          "base_uri": "https://localhost:8080/"
        },
        "id": "oeljFrGML8AC",
        "outputId": "c9889fb4-1e86-499b-bc92-edfa7b1f3802"
      },
      "execution_count": 2,
      "outputs": [
        {
          "output_type": "stream",
          "name": "stderr",
          "text": [
            "[nltk_data] Downloading collection 'book'\n",
            "[nltk_data]    | \n",
            "[nltk_data]    | Downloading package abc to /root/nltk_data...\n",
            "[nltk_data]    |   Unzipping corpora/abc.zip.\n",
            "[nltk_data]    | Downloading package brown to /root/nltk_data...\n",
            "[nltk_data]    |   Unzipping corpora/brown.zip.\n",
            "[nltk_data]    | Downloading package chat80 to /root/nltk_data...\n",
            "[nltk_data]    |   Unzipping corpora/chat80.zip.\n",
            "[nltk_data]    | Downloading package cmudict to /root/nltk_data...\n",
            "[nltk_data]    |   Unzipping corpora/cmudict.zip.\n",
            "[nltk_data]    | Downloading package conll2000 to /root/nltk_data...\n",
            "[nltk_data]    |   Unzipping corpora/conll2000.zip.\n",
            "[nltk_data]    | Downloading package conll2002 to /root/nltk_data...\n",
            "[nltk_data]    |   Unzipping corpora/conll2002.zip.\n",
            "[nltk_data]    | Downloading package dependency_treebank to\n",
            "[nltk_data]    |     /root/nltk_data...\n",
            "[nltk_data]    |   Unzipping corpora/dependency_treebank.zip.\n",
            "[nltk_data]    | Downloading package genesis to /root/nltk_data...\n",
            "[nltk_data]    |   Unzipping corpora/genesis.zip.\n",
            "[nltk_data]    | Downloading package gutenberg to /root/nltk_data...\n",
            "[nltk_data]    |   Unzipping corpora/gutenberg.zip.\n",
            "[nltk_data]    | Downloading package ieer to /root/nltk_data...\n",
            "[nltk_data]    |   Unzipping corpora/ieer.zip.\n",
            "[nltk_data]    | Downloading package inaugural to /root/nltk_data...\n",
            "[nltk_data]    |   Unzipping corpora/inaugural.zip.\n",
            "[nltk_data]    | Downloading package movie_reviews to\n",
            "[nltk_data]    |     /root/nltk_data...\n",
            "[nltk_data]    |   Unzipping corpora/movie_reviews.zip.\n",
            "[nltk_data]    | Downloading package nps_chat to /root/nltk_data...\n",
            "[nltk_data]    |   Unzipping corpora/nps_chat.zip.\n",
            "[nltk_data]    | Downloading package names to /root/nltk_data...\n",
            "[nltk_data]    |   Unzipping corpora/names.zip.\n",
            "[nltk_data]    | Downloading package ppattach to /root/nltk_data...\n",
            "[nltk_data]    |   Unzipping corpora/ppattach.zip.\n",
            "[nltk_data]    | Downloading package reuters to /root/nltk_data...\n",
            "[nltk_data]    | Downloading package senseval to /root/nltk_data...\n",
            "[nltk_data]    |   Unzipping corpora/senseval.zip.\n",
            "[nltk_data]    | Downloading package state_union to /root/nltk_data...\n",
            "[nltk_data]    |   Unzipping corpora/state_union.zip.\n",
            "[nltk_data]    | Downloading package stopwords to /root/nltk_data...\n",
            "[nltk_data]    |   Unzipping corpora/stopwords.zip.\n",
            "[nltk_data]    | Downloading package swadesh to /root/nltk_data...\n",
            "[nltk_data]    |   Unzipping corpora/swadesh.zip.\n",
            "[nltk_data]    | Downloading package timit to /root/nltk_data...\n",
            "[nltk_data]    |   Unzipping corpora/timit.zip.\n",
            "[nltk_data]    | Downloading package treebank to /root/nltk_data...\n",
            "[nltk_data]    |   Unzipping corpora/treebank.zip.\n",
            "[nltk_data]    | Downloading package toolbox to /root/nltk_data...\n",
            "[nltk_data]    |   Unzipping corpora/toolbox.zip.\n",
            "[nltk_data]    | Downloading package udhr to /root/nltk_data...\n",
            "[nltk_data]    |   Unzipping corpora/udhr.zip.\n",
            "[nltk_data]    | Downloading package udhr2 to /root/nltk_data...\n",
            "[nltk_data]    |   Unzipping corpora/udhr2.zip.\n",
            "[nltk_data]    | Downloading package unicode_samples to\n",
            "[nltk_data]    |     /root/nltk_data...\n",
            "[nltk_data]    |   Unzipping corpora/unicode_samples.zip.\n",
            "[nltk_data]    | Downloading package webtext to /root/nltk_data...\n",
            "[nltk_data]    |   Unzipping corpora/webtext.zip.\n",
            "[nltk_data]    | Downloading package wordnet to /root/nltk_data...\n",
            "[nltk_data]    | Downloading package wordnet_ic to /root/nltk_data...\n",
            "[nltk_data]    |   Unzipping corpora/wordnet_ic.zip.\n",
            "[nltk_data]    | Downloading package words to /root/nltk_data...\n",
            "[nltk_data]    |   Unzipping corpora/words.zip.\n",
            "[nltk_data]    | Downloading package maxent_treebank_pos_tagger to\n",
            "[nltk_data]    |     /root/nltk_data...\n",
            "[nltk_data]    |   Unzipping taggers/maxent_treebank_pos_tagger.zip.\n",
            "[nltk_data]    | Downloading package maxent_ne_chunker to\n",
            "[nltk_data]    |     /root/nltk_data...\n",
            "[nltk_data]    |   Unzipping chunkers/maxent_ne_chunker.zip.\n",
            "[nltk_data]    | Downloading package universal_tagset to\n",
            "[nltk_data]    |     /root/nltk_data...\n",
            "[nltk_data]    |   Unzipping taggers/universal_tagset.zip.\n",
            "[nltk_data]    | Downloading package punkt to /root/nltk_data...\n",
            "[nltk_data]    |   Unzipping tokenizers/punkt.zip.\n",
            "[nltk_data]    | Downloading package book_grammars to\n",
            "[nltk_data]    |     /root/nltk_data...\n",
            "[nltk_data]    |   Unzipping grammars/book_grammars.zip.\n",
            "[nltk_data]    | Downloading package city_database to\n",
            "[nltk_data]    |     /root/nltk_data...\n",
            "[nltk_data]    |   Unzipping corpora/city_database.zip.\n",
            "[nltk_data]    | Downloading package tagsets to /root/nltk_data...\n",
            "[nltk_data]    |   Unzipping help/tagsets.zip.\n",
            "[nltk_data]    | Downloading package panlex_swadesh to\n",
            "[nltk_data]    |     /root/nltk_data...\n",
            "[nltk_data]    | Downloading package averaged_perceptron_tagger to\n",
            "[nltk_data]    |     /root/nltk_data...\n",
            "[nltk_data]    |   Unzipping taggers/averaged_perceptron_tagger.zip.\n",
            "[nltk_data]    | \n",
            "[nltk_data]  Done downloading collection book\n"
          ]
        },
        {
          "output_type": "execute_result",
          "data": {
            "text/plain": [
              "True"
            ]
          },
          "metadata": {},
          "execution_count": 2
        }
      ]
    },
    {
      "cell_type": "code",
      "source": [
        "from nltk.book import *"
      ],
      "metadata": {
        "colab": {
          "base_uri": "https://localhost:8080/"
        },
        "id": "RXJ40FByMAiS",
        "outputId": "e2770ac7-fd44-414d-d994-418b08e3813c"
      },
      "execution_count": 3,
      "outputs": [
        {
          "output_type": "stream",
          "name": "stdout",
          "text": [
            "*** Introductory Examples for the NLTK Book ***\n",
            "Loading text1, ..., text9 and sent1, ..., sent9\n",
            "Type the name of the text or sentence to view it.\n",
            "Type: 'texts()' or 'sents()' to list the materials.\n",
            "text1: Moby Dick by Herman Melville 1851\n",
            "text2: Sense and Sensibility by Jane Austen 1811\n",
            "text3: The Book of Genesis\n",
            "text4: Inaugural Address Corpus\n",
            "text5: Chat Corpus\n",
            "text6: Monty Python and the Holy Grail\n",
            "text7: Wall Street Journal\n",
            "text8: Personals Corpus\n",
            "text9: The Man Who Was Thursday by G . K . Chesterton 1908\n"
          ]
        }
      ]
    },
    {
      "cell_type": "code",
      "source": [
        " text1"
      ],
      "metadata": {
        "colab": {
          "base_uri": "https://localhost:8080/"
        },
        "id": "-aPeIRIMMr_d",
        "outputId": "37335003-be65-447c-e187-ebcedc037202"
      },
      "execution_count": 4,
      "outputs": [
        {
          "output_type": "execute_result",
          "data": {
            "text/plain": [
              "<Text: Moby Dick by Herman Melville 1851>"
            ]
          },
          "metadata": {},
          "execution_count": 4
        }
      ]
    },
    {
      "cell_type": "code",
      "source": [
        " text2"
      ],
      "metadata": {
        "colab": {
          "base_uri": "https://localhost:8080/"
        },
        "id": "l-0ECbUkMsuN",
        "outputId": "ee86948c-6ff7-4822-8117-0ea8661ce440"
      },
      "execution_count": 5,
      "outputs": [
        {
          "output_type": "execute_result",
          "data": {
            "text/plain": [
              "<Text: Sense and Sensibility by Jane Austen 1811>"
            ]
          },
          "metadata": {},
          "execution_count": 5
        }
      ]
    },
    {
      "cell_type": "code",
      "source": [
        "text1.concordance(\"monstrous\")"
      ],
      "metadata": {
        "colab": {
          "base_uri": "https://localhost:8080/"
        },
        "id": "LfWIygDcMvx1",
        "outputId": "5e5f675f-a292-4416-a4c2-71e51bcf8cbb"
      },
      "execution_count": 6,
      "outputs": [
        {
          "output_type": "stream",
          "name": "stdout",
          "text": [
            "Displaying 11 of 11 matches:\n",
            "ong the former , one was of a most monstrous size . ... This came towards us , \n",
            "ON OF THE PSALMS . \" Touching that monstrous bulk of the whale or ork we have r\n",
            "ll over with a heathenish array of monstrous clubs and spears . Some were thick\n",
            "d as you gazed , and wondered what monstrous cannibal and savage could ever hav\n",
            "that has survived the flood ; most monstrous and most mountainous ! That Himmal\n",
            "they might scout at Moby Dick as a monstrous fable , or still worse and more de\n",
            "th of Radney .'\" CHAPTER 55 Of the Monstrous Pictures of Whales . I shall ere l\n",
            "ing Scenes . In connexion with the monstrous pictures of whales , I am strongly\n",
            "ere to enter upon those still more monstrous stories of them which are to be fo\n",
            "ght have been rummaged out of this monstrous cabinet there is no telling . But \n",
            "of Whale - Bones ; for Whales of a monstrous size are oftentimes cast up dead u\n"
          ]
        }
      ]
    },
    {
      "cell_type": "code",
      "source": [
        "text1.similar(\"monstrous\")"
      ],
      "metadata": {
        "colab": {
          "base_uri": "https://localhost:8080/"
        },
        "id": "_xl58ifjMzZq",
        "outputId": "3f5c2404-7c57-499a-fcd6-84de0d413be3"
      },
      "execution_count": 7,
      "outputs": [
        {
          "output_type": "stream",
          "name": "stdout",
          "text": [
            "true contemptible christian abundant few part mean careful puzzled\n",
            "mystifying passing curious loving wise doleful gamesome singular\n",
            "delightfully perilous fearless\n"
          ]
        }
      ]
    },
    {
      "cell_type": "code",
      "source": [
        "text2.similar(\"monstrous\")"
      ],
      "metadata": {
        "colab": {
          "base_uri": "https://localhost:8080/"
        },
        "id": "UoHwlX8DM5bi",
        "outputId": "6ed36f1f-d031-42cc-e181-018d04bbfce0"
      },
      "execution_count": 8,
      "outputs": [
        {
          "output_type": "stream",
          "name": "stdout",
          "text": [
            "very so exceedingly heartily a as good great extremely remarkably\n",
            "sweet vast amazingly\n"
          ]
        }
      ]
    },
    {
      "cell_type": "code",
      "source": [
        "text2.common_contexts([\"monstrous\", \"very\"])"
      ],
      "metadata": {
        "colab": {
          "base_uri": "https://localhost:8080/"
        },
        "id": "doH1_8onNDtH",
        "outputId": "d841410d-4df2-43fc-8d87-652159ef5b58"
      },
      "execution_count": 9,
      "outputs": [
        {
          "output_type": "stream",
          "name": "stdout",
          "text": [
            "am_glad a_pretty a_lucky is_pretty be_glad\n"
          ]
        }
      ]
    },
    {
      "cell_type": "code",
      "source": [
        " text4.dispersion_plot([\"citizens\", \"democracy\", \"freedom\", \"duties\", \"America\"])"
      ],
      "metadata": {
        "colab": {
          "base_uri": "https://localhost:8080/",
          "height": 472
        },
        "id": "54TlwazONEPa",
        "outputId": "d42c3202-6432-4c2f-f178-43a959e50830"
      },
      "execution_count": 10,
      "outputs": [
        {
          "output_type": "display_data",
          "data": {
            "text/plain": [
              "<Figure size 640x480 with 1 Axes>"
            ],
            "image/png": "[encoded data removed]"
          },
          "metadata": {}
        }
      ]
    },
    {
      "cell_type": "code",
      "source": [
        "nltk.download('punkt_tab')"
      ],
      "metadata": {
        "colab": {
          "base_uri": "https://localhost:8080/"
        },
        "id": "_slNh9EbOaGr",
        "outputId": "e0fa3fcf-817b-4ac5-c452-c067d31f2d07"
      },
      "execution_count": 12,
      "outputs": [
        {
          "output_type": "stream",
          "name": "stderr",
          "text": [
            "[nltk_data] Downloading package punkt_tab to /root/nltk_data...\n",
            "[nltk_data]   Unzipping tokenizers/punkt_tab.zip.\n"
          ]
        },
        {
          "output_type": "execute_result",
          "data": {
            "text/plain": [
              "True"
            ]
          },
          "metadata": {},
          "execution_count": 12
        }
      ]
    },
    {
      "cell_type": "code",
      "source": [
        "text3.generate()"
      ],
      "metadata": {
        "colab": {
          "base_uri": "https://localhost:8080/",
          "height": 209
        },
        "id": "RjAg82v5NHHx",
        "outputId": "2c393475-b07d-492c-9405-17cfb73175a2"
      },
      "execution_count": 13,
      "outputs": [
        {
          "output_type": "stream",
          "name": "stderr",
          "text": [
            "Building ngram index...\n"
          ]
        },
        {
          "output_type": "stream",
          "name": "stdout",
          "text": [
            "laid by her , and said unto Cain , Where art thou , and said , Go to ,\n",
            "I will not do it for ten ' s sons ; we dreamed each man according to\n",
            "their generatio the firstborn said unto Laban , Because I said , Nay ,\n",
            "but Sarah shall her name be . , duke Elah , duke Shobal , and Akan .\n",
            "and looked upon my affliction . Bashemath Ishmael ' s blood , but Isra\n",
            "for as a prince hast thou found of all the cattle in the valley , and\n",
            "the wo The\n"
          ]
        },
        {
          "output_type": "execute_result",
          "data": {
            "text/plain": [
              "\"laid by her , and said unto Cain , Where art thou , and said , Go to ,\\nI will not do it for ten ' s sons ; we dreamed each man according to\\ntheir generatio the firstborn said unto Laban , Because I said , Nay ,\\nbut Sarah shall her name be . , duke Elah , duke Shobal , and Akan .\\nand looked upon my affliction . Bashemath Ishmael ' s blood , but Isra\\nfor as a prince hast thou found of all the cattle in the valley , and\\nthe wo The\""
            ],
            "application/vnd.google.colaboratory.intrinsic+json": {
              "type": "string"
            }
          },
          "metadata": {},
          "execution_count": 13
        }
      ]
    },
    {
      "cell_type": "code",
      "source": [
        "len(text3)"
      ],
      "metadata": {
        "colab": {
          "base_uri": "https://localhost:8080/"
        },
        "id": "zmDFNoTENLH6",
        "outputId": "117bb04b-abde-4d1d-ae01-f596d71a18ae"
      },
      "execution_count": 14,
      "outputs": [
        {
          "output_type": "execute_result",
          "data": {
            "text/plain": [
              "44764"
            ]
          },
          "metadata": {},
          "execution_count": 14
        }
      ]
    },
    {
      "cell_type": "code",
      "source": [
        " sorted(set(text3))"
      ],
      "metadata": {
        "colab": {
          "base_uri": "https://localhost:8080/"
        },
        "id": "TrWLq4wDO1Oe",
        "outputId": "f29fb861-4cb4-4a17-cb23-34c50969dd24"
      },
      "execution_count": 15,
      "outputs": [
        {
          "output_type": "execute_result",
          "data": {
            "text/plain": [
              "['!',\n",
              " \"'\",\n",
              " '(',\n",
              " ')',\n",
              " ',',\n",
              " ',)',\n",
              " '.',\n",
              " '.)',\n",
              " ':',\n",
              " ';',\n",
              " ';)',\n",
              " '?',\n",
              " '?)',\n",
              " 'A',\n",
              " 'Abel',\n",
              " 'Abelmizraim',\n",
              " 'Abidah',\n",
              " 'Abide',\n",
              " 'Abimael',\n",
              " 'Abimelech',\n",
              " 'Abr',\n",
              " 'Abrah',\n",
              " 'Abraham',\n",
              " 'Abram',\n",
              " 'Accad',\n",
              " 'Achbor',\n",
              " 'Adah',\n",
              " 'Adam',\n",
              " 'Adbeel',\n",
              " 'Admah',\n",
              " 'Adullamite',\n",
              " 'After',\n",
              " 'Aholibamah',\n",
              " 'Ahuzzath',\n",
              " 'Ajah',\n",
              " 'Akan',\n",
              " 'All',\n",
              " 'Allonbachuth',\n",
              " 'Almighty',\n",
              " 'Almodad',\n",
              " 'Also',\n",
              " 'Alvah',\n",
              " 'Alvan',\n",
              " 'Am',\n",
              " 'Amal',\n",
              " 'Amalek',\n",
              " 'Amalekites',\n",
              " 'Ammon',\n",
              " 'Amorite',\n",
              " 'Amorites',\n",
              " 'Amraphel',\n",
              " 'An',\n",
              " 'Anah',\n",
              " 'Anamim',\n",
              " 'And',\n",
              " 'Aner',\n",
              " 'Angel',\n",
              " 'Appoint',\n",
              " 'Aram',\n",
              " 'Aran',\n",
              " 'Ararat',\n",
              " 'Arbah',\n",
              " 'Ard',\n",
              " 'Are',\n",
              " 'Areli',\n",
              " 'Arioch',\n",
              " 'Arise',\n",
              " 'Arkite',\n",
              " 'Arodi',\n",
              " 'Arphaxad',\n",
              " 'Art',\n",
              " 'Arvadite',\n",
              " 'As',\n",
              " 'Asenath',\n",
              " 'Ashbel',\n",
              " 'Asher',\n",
              " 'Ashkenaz',\n",
              " 'Ashteroth',\n",
              " 'Ask',\n",
              " 'Asshur',\n",
              " 'Asshurim',\n",
              " 'Assyr',\n",
              " 'Assyria',\n",
              " 'At',\n",
              " 'Atad',\n",
              " 'Avith',\n",
              " 'Baalhanan',\n",
              " 'Babel',\n",
              " 'Bashemath',\n",
              " 'Be',\n",
              " 'Because',\n",
              " 'Becher',\n",
              " 'Bedad',\n",
              " 'Beeri',\n",
              " 'Beerlahairoi',\n",
              " 'Beersheba',\n",
              " 'Behold',\n",
              " 'Bela',\n",
              " 'Belah',\n",
              " 'Benam',\n",
              " 'Benjamin',\n",
              " 'Beno',\n",
              " 'Beor',\n",
              " 'Bera',\n",
              " 'Bered',\n",
              " 'Beriah',\n",
              " 'Bethel',\n",
              " 'Bethlehem',\n",
              " 'Bethuel',\n",
              " 'Beware',\n",
              " 'Bilhah',\n",
              " 'Bilhan',\n",
              " 'Binding',\n",
              " 'Birsha',\n",
              " 'Bless',\n",
              " 'Blessed',\n",
              " 'Both',\n",
              " 'Bow',\n",
              " 'Bozrah',\n",
              " 'Bring',\n",
              " 'But',\n",
              " 'Buz',\n",
              " 'By',\n",
              " 'Cain',\n",
              " 'Cainan',\n",
              " 'Calah',\n",
              " 'Calneh',\n",
              " 'Can',\n",
              " 'Cana',\n",
              " 'Canaan',\n",
              " 'Canaanite',\n",
              " 'Canaanites',\n",
              " 'Canaanitish',\n",
              " 'Caphtorim',\n",
              " 'Carmi',\n",
              " 'Casluhim',\n",
              " 'Cast',\n",
              " 'Cause',\n",
              " 'Chaldees',\n",
              " 'Chedorlaomer',\n",
              " 'Cheran',\n",
              " 'Cherubims',\n",
              " 'Chesed',\n",
              " 'Chezib',\n",
              " 'Come',\n",
              " 'Cursed',\n",
              " 'Cush',\n",
              " 'Damascus',\n",
              " 'Dan',\n",
              " 'Day',\n",
              " 'Deborah',\n",
              " 'Dedan',\n",
              " 'Deliver',\n",
              " 'Diklah',\n",
              " 'Din',\n",
              " 'Dinah',\n",
              " 'Dinhabah',\n",
              " 'Discern',\n",
              " 'Dishan',\n",
              " 'Dishon',\n",
              " 'Do',\n",
              " 'Dodanim',\n",
              " 'Dothan',\n",
              " 'Drink',\n",
              " 'Duke',\n",
              " 'Dumah',\n",
              " 'Earth',\n",
              " 'Ebal',\n",
              " 'Eber',\n",
              " 'Edar',\n",
              " 'Eden',\n",
              " 'Edom',\n",
              " 'Edomites',\n",
              " 'Egy',\n",
              " 'Egypt',\n",
              " 'Egyptia',\n",
              " 'Egyptian',\n",
              " 'Egyptians',\n",
              " 'Ehi',\n",
              " 'Elah',\n",
              " 'Elam',\n",
              " 'Elbethel',\n",
              " 'Eldaah',\n",
              " 'EleloheIsrael',\n",
              " 'Eliezer',\n",
              " 'Eliphaz',\n",
              " 'Elishah',\n",
              " 'Ellasar',\n",
              " 'Elon',\n",
              " 'Elparan',\n",
              " 'Emins',\n",
              " 'En',\n",
              " 'Enmishpat',\n",
              " 'Eno',\n",
              " 'Enoch',\n",
              " 'Enos',\n",
              " 'Ephah',\n",
              " 'Epher',\n",
              " 'Ephra',\n",
              " 'Ephraim',\n",
              " 'Ephrath',\n",
              " 'Ephron',\n",
              " 'Er',\n",
              " 'Erech',\n",
              " 'Eri',\n",
              " 'Es',\n",
              " 'Esau',\n",
              " 'Escape',\n",
              " 'Esek',\n",
              " 'Eshban',\n",
              " 'Eshcol',\n",
              " 'Ethiopia',\n",
              " 'Euphrat',\n",
              " 'Euphrates',\n",
              " 'Eve',\n",
              " 'Even',\n",
              " 'Every',\n",
              " 'Except',\n",
              " 'Ezbon',\n",
              " 'Ezer',\n",
              " 'Fear',\n",
              " 'Feed',\n",
              " 'Fifteen',\n",
              " 'Fill',\n",
              " 'For',\n",
              " 'Forasmuch',\n",
              " 'Forgive',\n",
              " 'From',\n",
              " 'Fulfil',\n",
              " 'G',\n",
              " 'Gad',\n",
              " 'Gaham',\n",
              " 'Galeed',\n",
              " 'Gatam',\n",
              " 'Gather',\n",
              " 'Gaza',\n",
              " 'Gentiles',\n",
              " 'Gera',\n",
              " 'Gerar',\n",
              " 'Gershon',\n",
              " 'Get',\n",
              " 'Gether',\n",
              " 'Gihon',\n",
              " 'Gilead',\n",
              " 'Girgashites',\n",
              " 'Girgasite',\n",
              " 'Give',\n",
              " 'Go',\n",
              " 'God',\n",
              " 'Gomer',\n",
              " 'Gomorrah',\n",
              " 'Goshen',\n",
              " 'Guni',\n",
              " 'Hadad',\n",
              " 'Hadar',\n",
              " 'Hadoram',\n",
              " 'Hagar',\n",
              " 'Haggi',\n",
              " 'Hai',\n",
              " 'Ham',\n",
              " 'Hamathite',\n",
              " 'Hamor',\n",
              " 'Hamul',\n",
              " 'Hanoch',\n",
              " 'Happy',\n",
              " 'Haran',\n",
              " 'Hast',\n",
              " 'Haste',\n",
              " 'Have',\n",
              " 'Havilah',\n",
              " 'Hazarmaveth',\n",
              " 'Hazezontamar',\n",
              " 'Hazo',\n",
              " 'He',\n",
              " 'Hear',\n",
              " 'Heaven',\n",
              " 'Heber',\n",
              " 'Hebrew',\n",
              " 'Hebrews',\n",
              " 'Hebron',\n",
              " 'Hemam',\n",
              " 'Hemdan',\n",
              " 'Here',\n",
              " 'Hereby',\n",
              " 'Heth',\n",
              " 'Hezron',\n",
              " 'Hiddekel',\n",
              " 'Hinder',\n",
              " 'Hirah',\n",
              " 'His',\n",
              " 'Hitti',\n",
              " 'Hittite',\n",
              " 'Hittites',\n",
              " 'Hivite',\n",
              " 'Hobah',\n",
              " 'Hori',\n",
              " 'Horite',\n",
              " 'Horites',\n",
              " 'How',\n",
              " 'Hul',\n",
              " 'Huppim',\n",
              " 'Husham',\n",
              " 'Hushim',\n",
              " 'Huz',\n",
              " 'I',\n",
              " 'If',\n",
              " 'In',\n",
              " 'Irad',\n",
              " 'Iram',\n",
              " 'Is',\n",
              " 'Isa',\n",
              " 'Isaac',\n",
              " 'Iscah',\n",
              " 'Ishbak',\n",
              " 'Ishmael',\n",
              " 'Ishmeelites',\n",
              " 'Ishuah',\n",
              " 'Isra',\n",
              " 'Israel',\n",
              " 'Issachar',\n",
              " 'Isui',\n",
              " 'It',\n",
              " 'Ithran',\n",
              " 'Jaalam',\n",
              " 'Jabal',\n",
              " 'Jabbok',\n",
              " 'Jac',\n",
              " 'Jachin',\n",
              " 'Jacob',\n",
              " 'Jahleel',\n",
              " 'Jahzeel',\n",
              " 'Jamin',\n",
              " 'Japhe',\n",
              " 'Japheth',\n",
              " 'Jared',\n",
              " 'Javan',\n",
              " 'Jebusite',\n",
              " 'Jebusites',\n",
              " 'Jegarsahadutha',\n",
              " 'Jehovahjireh',\n",
              " 'Jemuel',\n",
              " 'Jerah',\n",
              " 'Jetheth',\n",
              " 'Jetur',\n",
              " 'Jeush',\n",
              " 'Jezer',\n",
              " 'Jidlaph',\n",
              " 'Jimnah',\n",
              " 'Job',\n",
              " 'Jobab',\n",
              " 'Jokshan',\n",
              " 'Joktan',\n",
              " 'Jordan',\n",
              " 'Joseph',\n",
              " 'Jubal',\n",
              " 'Judah',\n",
              " 'Judge',\n",
              " 'Judith',\n",
              " 'Kadesh',\n",
              " 'Kadmonites',\n",
              " 'Karnaim',\n",
              " 'Kedar',\n",
              " 'Kedemah',\n",
              " 'Kemuel',\n",
              " 'Kenaz',\n",
              " 'Kenites',\n",
              " 'Kenizzites',\n",
              " 'Keturah',\n",
              " 'Kiriathaim',\n",
              " 'Kirjatharba',\n",
              " 'Kittim',\n",
              " 'Know',\n",
              " 'Kohath',\n",
              " 'Kor',\n",
              " 'Korah',\n",
              " 'LO',\n",
              " 'LORD',\n",
              " 'Laban',\n",
              " 'Lahairoi',\n",
              " 'Lamech',\n",
              " 'Lasha',\n",
              " 'Lay',\n",
              " 'Leah',\n",
              " 'Lehabim',\n",
              " 'Lest',\n",
              " 'Let',\n",
              " 'Letushim',\n",
              " 'Leummim',\n",
              " 'Levi',\n",
              " 'Lie',\n",
              " 'Lift',\n",
              " 'Lo',\n",
              " 'Look',\n",
              " 'Lot',\n",
              " 'Lotan',\n",
              " 'Lud',\n",
              " 'Ludim',\n",
              " 'Luz',\n",
              " 'Maachah',\n",
              " 'Machir',\n",
              " 'Machpelah',\n",
              " 'Madai',\n",
              " 'Magdiel',\n",
              " 'Magog',\n",
              " 'Mahalaleel',\n",
              " 'Mahalath',\n",
              " 'Mahanaim',\n",
              " 'Make',\n",
              " 'Malchiel',\n",
              " 'Male',\n",
              " 'Mam',\n",
              " 'Mamre',\n",
              " 'Man',\n",
              " 'Manahath',\n",
              " 'Manass',\n",
              " 'Manasseh',\n",
              " 'Mash',\n",
              " 'Masrekah',\n",
              " 'Massa',\n",
              " 'Matred',\n",
              " 'Me',\n",
              " 'Medan',\n",
              " 'Mehetabel',\n",
              " 'Mehujael',\n",
              " 'Melchizedek',\n",
              " 'Merari',\n",
              " 'Mesha',\n",
              " 'Meshech',\n",
              " 'Mesopotamia',\n",
              " 'Methusa',\n",
              " 'Methusael',\n",
              " 'Methuselah',\n",
              " 'Mezahab',\n",
              " 'Mibsam',\n",
              " 'Mibzar',\n",
              " 'Midian',\n",
              " 'Midianites',\n",
              " 'Milcah',\n",
              " 'Mishma',\n",
              " 'Mizpah',\n",
              " 'Mizraim',\n",
              " 'Mizz',\n",
              " 'Moab',\n",
              " 'Moabites',\n",
              " 'Moreh',\n",
              " 'Moreover',\n",
              " 'Moriah',\n",
              " 'Muppim',\n",
              " 'My',\n",
              " 'Naamah',\n",
              " 'Naaman',\n",
              " 'Nahath',\n",
              " 'Nahor',\n",
              " 'Naphish',\n",
              " 'Naphtali',\n",
              " 'Naphtuhim',\n",
              " 'Nay',\n",
              " 'Nebajoth',\n",
              " 'Neither',\n",
              " 'Night',\n",
              " 'Nimrod',\n",
              " 'Nineveh',\n",
              " 'Noah',\n",
              " 'Nod',\n",
              " 'Not',\n",
              " 'Now',\n",
              " 'O',\n",
              " 'Obal',\n",
              " 'Of',\n",
              " 'Oh',\n",
              " 'Ohad',\n",
              " 'Omar',\n",
              " 'On',\n",
              " 'Onam',\n",
              " 'Onan',\n",
              " 'Only',\n",
              " 'Ophir',\n",
              " 'Our',\n",
              " 'Out',\n",
              " 'Padan',\n",
              " 'Padanaram',\n",
              " 'Paran',\n",
              " 'Pass',\n",
              " 'Pathrusim',\n",
              " 'Pau',\n",
              " 'Peace',\n",
              " 'Peleg',\n",
              " 'Peniel',\n",
              " 'Penuel',\n",
              " 'Peradventure',\n",
              " 'Perizzit',\n",
              " 'Perizzite',\n",
              " 'Perizzites',\n",
              " 'Phallu',\n",
              " 'Phara',\n",
              " 'Pharaoh',\n",
              " 'Pharez',\n",
              " 'Phichol',\n",
              " 'Philistim',\n",
              " 'Philistines',\n",
              " 'Phut',\n",
              " 'Phuvah',\n",
              " 'Pildash',\n",
              " 'Pinon',\n",
              " 'Pison',\n",
              " 'Potiphar',\n",
              " 'Potipherah',\n",
              " 'Put',\n",
              " 'Raamah',\n",
              " 'Rachel',\n",
              " 'Rameses',\n",
              " 'Rebek',\n",
              " 'Rebekah',\n",
              " 'Rehoboth',\n",
              " 'Remain',\n",
              " 'Rephaims',\n",
              " 'Resen',\n",
              " 'Return',\n",
              " 'Reu',\n",
              " 'Reub',\n",
              " 'Reuben',\n",
              " 'Reuel',\n",
              " 'Reumah',\n",
              " 'Riphath',\n",
              " 'Rosh',\n",
              " 'Sabtah',\n",
              " 'Sabtech',\n",
              " 'Said',\n",
              " 'Salah',\n",
              " 'Salem',\n",
              " 'Samlah',\n",
              " 'Sarah',\n",
              " 'Sarai',\n",
              " 'Saul',\n",
              " 'Save',\n",
              " 'Say',\n",
              " 'Se',\n",
              " 'Seba',\n",
              " 'See',\n",
              " 'Seeing',\n",
              " 'Seir',\n",
              " 'Sell',\n",
              " 'Send',\n",
              " 'Sephar',\n",
              " 'Serah',\n",
              " 'Sered',\n",
              " 'Serug',\n",
              " 'Set',\n",
              " 'Seth',\n",
              " 'Shalem',\n",
              " 'Shall',\n",
              " 'Shalt',\n",
              " 'Shammah',\n",
              " 'Shaul',\n",
              " 'Shaveh',\n",
              " 'She',\n",
              " 'Sheba',\n",
              " 'Shebah',\n",
              " 'Shechem',\n",
              " 'Shed',\n",
              " 'Shel',\n",
              " 'Shelah',\n",
              " 'Sheleph',\n",
              " 'Shem',\n",
              " 'Shemeber',\n",
              " 'Shepho',\n",
              " 'Shillem',\n",
              " 'Shiloh',\n",
              " 'Shimron',\n",
              " 'Shinab',\n",
              " 'Shinar',\n",
              " 'Shobal',\n",
              " 'Should',\n",
              " 'Shuah',\n",
              " 'Shuni',\n",
              " 'Shur',\n",
              " 'Sichem',\n",
              " 'Siddim',\n",
              " 'Sidon',\n",
              " 'Simeon',\n",
              " 'Sinite',\n",
              " 'Sitnah',\n",
              " 'Slay',\n",
              " 'So',\n",
              " 'Sod',\n",
              " 'Sodom',\n",
              " 'Sojourn',\n",
              " 'Some',\n",
              " 'Spake',\n",
              " 'Speak',\n",
              " 'Spirit',\n",
              " 'Stand',\n",
              " 'Succoth',\n",
              " 'Surely',\n",
              " 'Swear',\n",
              " 'Syrian',\n",
              " 'Take',\n",
              " 'Tamar',\n",
              " 'Tarshish',\n",
              " 'Tebah',\n",
              " 'Tell',\n",
              " 'Tema',\n",
              " 'Teman',\n",
              " 'Temani',\n",
              " 'Terah',\n",
              " 'Thahash',\n",
              " 'That',\n",
              " 'The',\n",
              " 'Then',\n",
              " 'There',\n",
              " 'Therefore',\n",
              " 'These',\n",
              " 'They',\n",
              " 'Thirty',\n",
              " 'This',\n",
              " 'Thorns',\n",
              " 'Thou',\n",
              " 'Thus',\n",
              " 'Thy',\n",
              " 'Tidal',\n",
              " 'Timna',\n",
              " 'Timnah',\n",
              " 'Timnath',\n",
              " 'Tiras',\n",
              " 'To',\n",
              " 'Togarmah',\n",
              " 'Tola',\n",
              " 'Tubal',\n",
              " 'Tubalcain',\n",
              " 'Twelve',\n",
              " 'Two',\n",
              " 'Unstable',\n",
              " 'Until',\n",
              " 'Unto',\n",
              " 'Up',\n",
              " 'Upon',\n",
              " 'Ur',\n",
              " 'Uz',\n",
              " 'Uzal',\n",
              " 'We',\n",
              " 'What',\n",
              " 'When',\n",
              " 'Whence',\n",
              " 'Where',\n",
              " 'Whereas',\n",
              " 'Wherefore',\n",
              " 'Which',\n",
              " 'While',\n",
              " 'Who',\n",
              " 'Whose',\n",
              " 'Whoso',\n",
              " 'Why',\n",
              " 'Wilt',\n",
              " 'With',\n",
              " 'Woman',\n",
              " 'Ye',\n",
              " 'Yea',\n",
              " 'Yet',\n",
              " 'Zaavan',\n",
              " 'Zaphnathpaaneah',\n",
              " 'Zar',\n",
              " 'Zarah',\n",
              " 'Zeboiim',\n",
              " 'Zeboim',\n",
              " 'Zebul',\n",
              " 'Zebulun',\n",
              " 'Zemarite',\n",
              " 'Zepho',\n",
              " 'Zerah',\n",
              " 'Zibeon',\n",
              " 'Zidon',\n",
              " 'Zillah',\n",
              " 'Zilpah',\n",
              " 'Zimran',\n",
              " 'Ziphion',\n",
              " 'Zo',\n",
              " 'Zoar',\n",
              " 'Zohar',\n",
              " 'Zuzims',\n",
              " 'a',\n",
              " 'abated',\n",
              " 'abide',\n",
              " 'able',\n",
              " 'abode',\n",
              " 'abomination',\n",
              " 'about',\n",
              " 'above',\n",
              " 'abroad',\n",
              " 'absent',\n",
              " 'abundantly',\n",
              " 'accept',\n",
              " 'accepted',\n",
              " 'according',\n",
              " 'acknowledged',\n",
              " 'activity',\n",
              " 'add',\n",
              " 'adder',\n",
              " 'afar',\n",
              " 'afflict',\n",
              " 'affliction',\n",
              " 'afraid',\n",
              " 'after',\n",
              " 'afterward',\n",
              " 'afterwards',\n",
              " 'aga',\n",
              " 'again',\n",
              " 'against',\n",
              " 'age',\n",
              " 'aileth',\n",
              " 'air',\n",
              " 'al',\n",
              " 'alive',\n",
              " 'all',\n",
              " 'almon',\n",
              " 'alo',\n",
              " 'alone',\n",
              " 'aloud',\n",
              " 'also',\n",
              " 'altar',\n",
              " 'altogether',\n",
              " 'always',\n",
              " 'am',\n",
              " 'among',\n",
              " 'amongst',\n",
              " 'an',\n",
              " 'and',\n",
              " 'angel',\n",
              " 'angels',\n",
              " 'anger',\n",
              " 'angry',\n",
              " 'anguish',\n",
              " 'anointedst',\n",
              " 'anoth',\n",
              " 'another',\n",
              " 'answer',\n",
              " 'answered',\n",
              " 'any',\n",
              " 'anything',\n",
              " 'appe',\n",
              " 'appear',\n",
              " 'appeared',\n",
              " 'appease',\n",
              " 'appoint',\n",
              " 'appointed',\n",
              " 'aprons',\n",
              " 'archer',\n",
              " 'archers',\n",
              " 'are',\n",
              " 'arise',\n",
              " 'ark',\n",
              " 'armed',\n",
              " 'arms',\n",
              " 'army',\n",
              " 'arose',\n",
              " 'arrayed',\n",
              " 'art',\n",
              " 'artificer',\n",
              " 'as',\n",
              " 'ascending',\n",
              " 'ash',\n",
              " 'ashamed',\n",
              " 'ask',\n",
              " 'asked',\n",
              " 'asketh',\n",
              " 'ass',\n",
              " 'assembly',\n",
              " 'asses',\n",
              " 'assigned',\n",
              " 'asswaged',\n",
              " 'at',\n",
              " 'attained',\n",
              " 'audience',\n",
              " 'avenged',\n",
              " 'aw',\n",
              " 'awaked',\n",
              " 'away',\n",
              " 'awoke',\n",
              " 'back',\n",
              " 'backward',\n",
              " 'bad',\n",
              " 'bade',\n",
              " 'badest',\n",
              " 'badne',\n",
              " 'bak',\n",
              " 'bake',\n",
              " 'bakemeats',\n",
              " 'baker',\n",
              " 'bakers',\n",
              " 'balm',\n",
              " 'bands',\n",
              " 'bank',\n",
              " 'bare',\n",
              " 'barr',\n",
              " 'barren',\n",
              " 'basket',\n",
              " 'baskets',\n",
              " 'battle',\n",
              " 'bdellium',\n",
              " 'be',\n",
              " 'bear',\n",
              " 'beari',\n",
              " 'bearing',\n",
              " 'beast',\n",
              " 'beasts',\n",
              " 'beautiful',\n",
              " 'became',\n",
              " 'because',\n",
              " 'become',\n",
              " 'bed',\n",
              " 'been',\n",
              " 'befall',\n",
              " 'befell',\n",
              " 'before',\n",
              " 'began',\n",
              " 'begat',\n",
              " 'beget',\n",
              " 'begettest',\n",
              " 'begin',\n",
              " 'beginning',\n",
              " 'begotten',\n",
              " 'beguiled',\n",
              " 'beheld',\n",
              " 'behind',\n",
              " 'behold',\n",
              " 'being',\n",
              " 'believed',\n",
              " 'belly',\n",
              " 'belong',\n",
              " 'beneath',\n",
              " 'bereaved',\n",
              " 'beside',\n",
              " 'besides',\n",
              " 'besought',\n",
              " 'best',\n",
              " 'betimes',\n",
              " 'better',\n",
              " 'between',\n",
              " 'betwixt',\n",
              " 'beyond',\n",
              " 'binding',\n",
              " 'bird',\n",
              " 'birds',\n",
              " 'birthday',\n",
              " 'birthright',\n",
              " 'biteth',\n",
              " 'bitter',\n",
              " 'blame',\n",
              " 'blameless',\n",
              " 'blasted',\n",
              " 'bless',\n",
              " 'blessed',\n",
              " 'blesseth',\n",
              " 'blessi',\n",
              " 'blessing',\n",
              " 'blessings',\n",
              " 'blindness',\n",
              " 'blood',\n",
              " 'blossoms',\n",
              " 'bodies',\n",
              " 'boldly',\n",
              " 'bondman',\n",
              " 'bondmen',\n",
              " 'bondwoman',\n",
              " 'bone',\n",
              " 'bones',\n",
              " 'book',\n",
              " 'booths',\n",
              " 'border',\n",
              " 'borders',\n",
              " 'born',\n",
              " 'bosom',\n",
              " 'both',\n",
              " 'bottle',\n",
              " 'bou',\n",
              " 'boug',\n",
              " 'bough',\n",
              " 'bought',\n",
              " 'bound',\n",
              " 'bow',\n",
              " 'bowed',\n",
              " 'bowels',\n",
              " 'bowing',\n",
              " 'boys',\n",
              " 'bracelets',\n",
              " 'branches',\n",
              " 'brass',\n",
              " 'bre',\n",
              " 'breach',\n",
              " 'bread',\n",
              " 'breadth',\n",
              " 'break',\n",
              " 'breaketh',\n",
              " 'breaking',\n",
              " 'breasts',\n",
              " 'breath',\n",
              " 'breathed',\n",
              " 'breed',\n",
              " 'brethren',\n",
              " 'brick',\n",
              " 'brimstone',\n",
              " 'bring',\n",
              " 'brink',\n",
              " 'broken',\n",
              " 'brook',\n",
              " 'broth',\n",
              " 'brother',\n",
              " 'brought',\n",
              " 'brown',\n",
              " 'bruise',\n",
              " 'budded',\n",
              " 'build',\n",
              " 'builded',\n",
              " 'built',\n",
              " 'bulls',\n",
              " 'bundle',\n",
              " 'bundles',\n",
              " 'burdens',\n",
              " 'buried',\n",
              " 'burn',\n",
              " 'burning',\n",
              " 'burnt',\n",
              " 'bury',\n",
              " 'buryingplace',\n",
              " 'business',\n",
              " 'but',\n",
              " 'butler',\n",
              " 'butlers',\n",
              " 'butlership',\n",
              " 'butter',\n",
              " 'buy',\n",
              " 'by',\n",
              " 'cakes',\n",
              " 'calf',\n",
              " 'call',\n",
              " 'called',\n",
              " 'came',\n",
              " 'camel',\n",
              " 'camels',\n",
              " 'camest',\n",
              " 'can',\n",
              " 'cannot',\n",
              " 'canst',\n",
              " 'captain',\n",
              " 'captive',\n",
              " 'captives',\n",
              " 'carcases',\n",
              " 'carried',\n",
              " 'carry',\n",
              " 'cast',\n",
              " 'castles',\n",
              " 'catt',\n",
              " 'cattle',\n",
              " 'caught',\n",
              " 'cause',\n",
              " 'caused',\n",
              " 'cave',\n",
              " 'cease',\n",
              " 'ceased',\n",
              " 'certain',\n",
              " 'certainly',\n",
              " 'chain',\n",
              " 'chamber',\n",
              " 'change',\n",
              " 'changed',\n",
              " 'changes',\n",
              " 'charge',\n",
              " 'charged',\n",
              " 'chariot',\n",
              " 'chariots',\n",
              " 'chesnut',\n",
              " 'chi',\n",
              " 'chief',\n",
              " 'child',\n",
              " 'childless',\n",
              " 'childr',\n",
              " 'children',\n",
              " 'chode',\n",
              " 'choice',\n",
              " 'chose',\n",
              " 'circumcis',\n",
              " 'circumcise',\n",
              " 'circumcised',\n",
              " 'citi',\n",
              " 'cities',\n",
              " 'city',\n",
              " 'clave',\n",
              " 'clean',\n",
              " 'clear',\n",
              " 'cleave',\n",
              " 'clo',\n",
              " 'closed',\n",
              " 'clothed',\n",
              " 'clothes',\n",
              " 'cloud',\n",
              " 'clusters',\n",
              " 'co',\n",
              " 'coat',\n",
              " 'coats',\n",
              " 'coffin',\n",
              " 'cold',\n",
              " ...]"
            ]
          },
          "metadata": {},
          "execution_count": 15
        }
      ]
    },
    {
      "cell_type": "code",
      "source": [
        "len(set(text3))"
      ],
      "metadata": {
        "colab": {
          "base_uri": "https://localhost:8080/"
        },
        "id": "w7ZAVV4uPJCM",
        "outputId": "74c3498c-7f25-464b-afa3-b199a30c7167"
      },
      "execution_count": 16,
      "outputs": [
        {
          "output_type": "execute_result",
          "data": {
            "text/plain": [
              "2789"
            ]
          },
          "metadata": {},
          "execution_count": 16
        }
      ]
    },
    {
      "cell_type": "code",
      "source": [
        "from __future__ import division"
      ],
      "metadata": {
        "id": "PkF1ZHqmPNZo"
      },
      "execution_count": 17,
      "outputs": []
    },
    {
      "cell_type": "code",
      "source": [
        "len(text3) / len(set(text3))"
      ],
      "metadata": {
        "colab": {
          "base_uri": "https://localhost:8080/"
        },
        "id": "B8ClmcN1PYGN",
        "outputId": "b3a18c90-e8a3-48fe-f362-9b4d99f476f8"
      },
      "execution_count": 18,
      "outputs": [
        {
          "output_type": "execute_result",
          "data": {
            "text/plain": [
              "16.050197203298673"
            ]
          },
          "metadata": {},
          "execution_count": 18
        }
      ]
    },
    {
      "cell_type": "code",
      "source": [
        "text3.count(\"smote\")"
      ],
      "metadata": {
        "colab": {
          "base_uri": "https://localhost:8080/"
        },
        "id": "s4F8gcNMPZ-4",
        "outputId": "6d2ff956-50d0-4d4a-e029-36ceb59d5e8e"
      },
      "execution_count": 19,
      "outputs": [
        {
          "output_type": "execute_result",
          "data": {
            "text/plain": [
              "5"
            ]
          },
          "metadata": {},
          "execution_count": 19
        }
      ]
    },
    {
      "cell_type": "code",
      "source": [
        "100 * text4.count('a') / len(text4)"
      ],
      "metadata": {
        "colab": {
          "base_uri": "https://localhost:8080/"
        },
        "id": "iMLt5XyNPiRZ",
        "outputId": "fb7ba0d8-4990-4fde-ba24-8baa5e69e5c1"
      },
      "execution_count": 20,
      "outputs": [
        {
          "output_type": "execute_result",
          "data": {
            "text/plain": [
              "1.457806031353621"
            ]
          },
          "metadata": {},
          "execution_count": 20
        }
      ]
    },
    {
      "cell_type": "code",
      "source": [
        "text5.count(\"lol\")"
      ],
      "metadata": {
        "colab": {
          "base_uri": "https://localhost:8080/"
        },
        "id": "4kpkL5eHPmiv",
        "outputId": "396f5d6e-5515-45bb-8bde-8376371466f2"
      },
      "execution_count": 21,
      "outputs": [
        {
          "output_type": "execute_result",
          "data": {
            "text/plain": [
              "704"
            ]
          },
          "metadata": {},
          "execution_count": 21
        }
      ]
    },
    {
      "cell_type": "code",
      "source": [
        "def lexical_diversity(text):\n",
        "  return len(text) / len(set(text))"
      ],
      "metadata": {
        "id": "ns-DnNp8P9XF"
      },
      "execution_count": 22,
      "outputs": []
    },
    {
      "cell_type": "code",
      "source": [
        "def percentage(count, total):\n",
        "  return 100 * count / total"
      ],
      "metadata": {
        "id": "QIzV0bXJQJ_x"
      },
      "execution_count": 23,
      "outputs": []
    },
    {
      "cell_type": "code",
      "source": [
        "lexical_diversity(text3)"
      ],
      "metadata": {
        "colab": {
          "base_uri": "https://localhost:8080/"
        },
        "id": "WI3WK-4jQOmO",
        "outputId": "c9f2e6d7-b48c-452b-a7bb-98e861ae3e2a"
      },
      "execution_count": 26,
      "outputs": [
        {
          "output_type": "execute_result",
          "data": {
            "text/plain": [
              "16.050197203298673"
            ]
          },
          "metadata": {},
          "execution_count": 26
        }
      ]
    },
    {
      "cell_type": "code",
      "source": [
        "lexical_diversity(text5)"
      ],
      "metadata": {
        "colab": {
          "base_uri": "https://localhost:8080/"
        },
        "id": "r3JvpgOWQUl9",
        "outputId": "be393759-dc05-4085-bd8d-28e953f7eec1"
      },
      "execution_count": 27,
      "outputs": [
        {
          "output_type": "execute_result",
          "data": {
            "text/plain": [
              "7.420046158918563"
            ]
          },
          "metadata": {},
          "execution_count": 27
        }
      ]
    },
    {
      "cell_type": "code",
      "source": [
        "percentage(4, 5)"
      ],
      "metadata": {
        "colab": {
          "base_uri": "https://localhost:8080/"
        },
        "id": "hwcC3k8nQgDC",
        "outputId": "1b67754f-722b-4eaa-9b8a-193f815c43df"
      },
      "execution_count": 28,
      "outputs": [
        {
          "output_type": "execute_result",
          "data": {
            "text/plain": [
              "80.0"
            ]
          },
          "metadata": {},
          "execution_count": 28
        }
      ]
    },
    {
      "cell_type": "code",
      "source": [
        "percentage(text4.count('a'), len(text4))"
      ],
      "metadata": {
        "colab": {
          "base_uri": "https://localhost:8080/"
        },
        "id": "DOUZp--mQjY2",
        "outputId": "68de88d2-cacb-4b24-c0a9-c9060c180661"
      },
      "execution_count": 29,
      "outputs": [
        {
          "output_type": "execute_result",
          "data": {
            "text/plain": [
              "1.457806031353621"
            ]
          },
          "metadata": {},
          "execution_count": 29
        }
      ]
    },
    {
      "cell_type": "code",
      "source": [
        "sent1 = ['Call', 'me', 'Ishmael', '.']"
      ],
      "metadata": {
        "id": "b-NLj2qNQl39"
      },
      "execution_count": 30,
      "outputs": []
    },
    {
      "cell_type": "code",
      "source": [
        "sent1"
      ],
      "metadata": {
        "colab": {
          "base_uri": "https://localhost:8080/"
        },
        "id": "WAA1rKcSQv6p",
        "outputId": "123e57a9-734e-4db9-967e-9908c920bb7e"
      },
      "execution_count": 31,
      "outputs": [
        {
          "output_type": "execute_result",
          "data": {
            "text/plain": [
              "['Call', 'me', 'Ishmael', '.']"
            ]
          },
          "metadata": {},
          "execution_count": 31
        }
      ]
    },
    {
      "cell_type": "code",
      "source": [
        "len(sent1)"
      ],
      "metadata": {
        "colab": {
          "base_uri": "https://localhost:8080/"
        },
        "id": "Scl6nmIQQyUN",
        "outputId": "c7af31fc-2d0e-4a26-a90c-cf628001ae42"
      },
      "execution_count": 32,
      "outputs": [
        {
          "output_type": "execute_result",
          "data": {
            "text/plain": [
              "4"
            ]
          },
          "metadata": {},
          "execution_count": 32
        }
      ]
    },
    {
      "cell_type": "code",
      "source": [
        "lexical_diversity(sent1)"
      ],
      "metadata": {
        "colab": {
          "base_uri": "https://localhost:8080/"
        },
        "id": "PYJaSgTVQzvL",
        "outputId": "cfe6b6c0-2e08-42d5-f04a-19e72f083a69"
      },
      "execution_count": 33,
      "outputs": [
        {
          "output_type": "execute_result",
          "data": {
            "text/plain": [
              "1.0"
            ]
          },
          "metadata": {},
          "execution_count": 33
        }
      ]
    },
    {
      "cell_type": "code",
      "source": [
        "sent2"
      ],
      "metadata": {
        "colab": {
          "base_uri": "https://localhost:8080/"
        },
        "id": "dazWqAIRQ1TC",
        "outputId": "00bffd77-0549-4da6-f0b9-c7132e92dadc"
      },
      "execution_count": 34,
      "outputs": [
        {
          "output_type": "execute_result",
          "data": {
            "text/plain": [
              "['The',\n",
              " 'family',\n",
              " 'of',\n",
              " 'Dashwood',\n",
              " 'had',\n",
              " 'long',\n",
              " 'been',\n",
              " 'settled',\n",
              " 'in',\n",
              " 'Sussex',\n",
              " '.']"
            ]
          },
          "metadata": {},
          "execution_count": 34
        }
      ]
    },
    {
      "cell_type": "code",
      "source": [
        "sent3"
      ],
      "metadata": {
        "colab": {
          "base_uri": "https://localhost:8080/"
        },
        "id": "2Vat8MROQ3M-",
        "outputId": "b32dd88b-024e-4fa3-f92f-23b4ccb88e64"
      },
      "execution_count": 35,
      "outputs": [
        {
          "output_type": "execute_result",
          "data": {
            "text/plain": [
              "['In',\n",
              " 'the',\n",
              " 'beginning',\n",
              " 'God',\n",
              " 'created',\n",
              " 'the',\n",
              " 'heaven',\n",
              " 'and',\n",
              " 'the',\n",
              " 'earth',\n",
              " '.']"
            ]
          },
          "metadata": {},
          "execution_count": 35
        }
      ]
    },
    {
      "cell_type": "code",
      "source": [
        "['Monty', 'Python'] + ['and', 'the', 'Holy', 'Grail']"
      ],
      "metadata": {
        "colab": {
          "base_uri": "https://localhost:8080/"
        },
        "id": "z_qvWz8QQ6b0",
        "outputId": "aae1c4b8-3fb3-4d29-b7fb-32f164cc4f88"
      },
      "execution_count": 36,
      "outputs": [
        {
          "output_type": "execute_result",
          "data": {
            "text/plain": [
              "['Monty', 'Python', 'and', 'the', 'Holy', 'Grail']"
            ]
          },
          "metadata": {},
          "execution_count": 36
        }
      ]
    },
    {
      "cell_type": "code",
      "source": [
        "sent4 + sent1"
      ],
      "metadata": {
        "colab": {
          "base_uri": "https://localhost:8080/"
        },
        "id": "WWSmJ5PYRE_e",
        "outputId": "f21cbcf9-ddac-4267-82a3-7312361676b6"
      },
      "execution_count": 37,
      "outputs": [
        {
          "output_type": "execute_result",
          "data": {
            "text/plain": [
              "['Fellow',\n",
              " '-',\n",
              " 'Citizens',\n",
              " 'of',\n",
              " 'the',\n",
              " 'Senate',\n",
              " 'and',\n",
              " 'of',\n",
              " 'the',\n",
              " 'House',\n",
              " 'of',\n",
              " 'Representatives',\n",
              " ':',\n",
              " 'Call',\n",
              " 'me',\n",
              " 'Ishmael',\n",
              " '.']"
            ]
          },
          "metadata": {},
          "execution_count": 37
        }
      ]
    },
    {
      "cell_type": "code",
      "source": [
        "sent1.append(\"Some\")\n",
        "sent1"
      ],
      "metadata": {
        "colab": {
          "base_uri": "https://localhost:8080/"
        },
        "id": "SMBPwU39RI7f",
        "outputId": "d6edde42-ea5c-4220-af0a-3e748750f912"
      },
      "execution_count": 39,
      "outputs": [
        {
          "output_type": "execute_result",
          "data": {
            "text/plain": [
              "['Call', 'me', 'Ishmael', '.', 'Some', 'Some']"
            ]
          },
          "metadata": {},
          "execution_count": 39
        }
      ]
    },
    {
      "cell_type": "code",
      "source": [
        "text4[173]"
      ],
      "metadata": {
        "colab": {
          "base_uri": "https://localhost:8080/",
          "height": 36
        },
        "id": "P78UMFAARN-Y",
        "outputId": "7d81c506-1b52-4525-e8cf-21cd749f37e9"
      },
      "execution_count": 40,
      "outputs": [
        {
          "output_type": "execute_result",
          "data": {
            "text/plain": [
              "'awaken'"
            ],
            "application/vnd.google.colaboratory.intrinsic+json": {
              "type": "string"
            }
          },
          "metadata": {},
          "execution_count": 40
        }
      ]
    },
    {
      "cell_type": "code",
      "source": [
        "text4.index('awaken')"
      ],
      "metadata": {
        "colab": {
          "base_uri": "https://localhost:8080/"
        },
        "id": "Ze11PwCwRYNE",
        "outputId": "2aaa3771-2d68-4ce5-a632-864f074b1ea0"
      },
      "execution_count": 41,
      "outputs": [
        {
          "output_type": "execute_result",
          "data": {
            "text/plain": [
              "173"
            ]
          },
          "metadata": {},
          "execution_count": 41
        }
      ]
    },
    {
      "cell_type": "code",
      "source": [
        "text5[16715:16735]"
      ],
      "metadata": {
        "colab": {
          "base_uri": "https://localhost:8080/"
        },
        "id": "kpD4Xs-lRbkD",
        "outputId": "1362e10f-d6e4-4407-f677-5dacdcc429a2"
      },
      "execution_count": 42,
      "outputs": [
        {
          "output_type": "execute_result",
          "data": {
            "text/plain": [
              "['U86',\n",
              " 'thats',\n",
              " 'why',\n",
              " 'something',\n",
              " 'like',\n",
              " 'gamefly',\n",
              " 'is',\n",
              " 'so',\n",
              " 'good',\n",
              " 'because',\n",
              " 'you',\n",
              " 'can',\n",
              " 'actually',\n",
              " 'play',\n",
              " 'a',\n",
              " 'full',\n",
              " 'game',\n",
              " 'without',\n",
              " 'buying',\n",
              " 'it']"
            ]
          },
          "metadata": {},
          "execution_count": 42
        }
      ]
    },
    {
      "cell_type": "code",
      "source": [
        "text6[1600:1625]"
      ],
      "metadata": {
        "colab": {
          "base_uri": "https://localhost:8080/"
        },
        "id": "vkTMhTCTRftj",
        "outputId": "84b76714-e921-45a1-e8ac-2b38d565dab3"
      },
      "execution_count": 43,
      "outputs": [
        {
          "output_type": "execute_result",
          "data": {
            "text/plain": [
              "['We',\n",
              " \"'\",\n",
              " 're',\n",
              " 'an',\n",
              " 'anarcho',\n",
              " '-',\n",
              " 'syndicalist',\n",
              " 'commune',\n",
              " '.',\n",
              " 'We',\n",
              " 'take',\n",
              " 'it',\n",
              " 'in',\n",
              " 'turns',\n",
              " 'to',\n",
              " 'act',\n",
              " 'as',\n",
              " 'a',\n",
              " 'sort',\n",
              " 'of',\n",
              " 'executive',\n",
              " 'officer',\n",
              " 'for',\n",
              " 'the',\n",
              " 'week']"
            ]
          },
          "metadata": {},
          "execution_count": 43
        }
      ]
    },
    {
      "cell_type": "code",
      "source": [
        "sent = ['word1', 'word2', 'word3', 'word4', 'word5', 'word6', 'word7', 'word8', 'word9', 'word10']"
      ],
      "metadata": {
        "id": "3_FdUAUZRr5J"
      },
      "execution_count": 45,
      "outputs": []
    },
    {
      "cell_type": "code",
      "source": [
        "sent[0]"
      ],
      "metadata": {
        "colab": {
          "base_uri": "https://localhost:8080/",
          "height": 36
        },
        "id": "WnWfnLW0RvzP",
        "outputId": "af8c9b69-9612-4d07-8697-89c84f4c45b1"
      },
      "execution_count": 46,
      "outputs": [
        {
          "output_type": "execute_result",
          "data": {
            "text/plain": [
              "'word1'"
            ],
            "application/vnd.google.colaboratory.intrinsic+json": {
              "type": "string"
            }
          },
          "metadata": {},
          "execution_count": 46
        }
      ]
    },
    {
      "cell_type": "code",
      "source": [
        "sent[9]"
      ],
      "metadata": {
        "colab": {
          "base_uri": "https://localhost:8080/",
          "height": 36
        },
        "id": "EJopH3GMR1SZ",
        "outputId": "84aef2ed-a3e3-4438-e904-8035897a96c1"
      },
      "execution_count": 47,
      "outputs": [
        {
          "output_type": "execute_result",
          "data": {
            "text/plain": [
              "'word10'"
            ],
            "application/vnd.google.colaboratory.intrinsic+json": {
              "type": "string"
            }
          },
          "metadata": {},
          "execution_count": 47
        }
      ]
    },
    {
      "cell_type": "code",
      "source": [
        "sent[10]"
      ],
      "metadata": {
        "colab": {
          "base_uri": "https://localhost:8080/",
          "height": 141
        },
        "id": "8-I06NvZR3FF",
        "outputId": "092a09c0-a07f-4d02-d362-79c4cae61f93"
      },
      "execution_count": 48,
      "outputs": [
        {
          "output_type": "error",
          "ename": "IndexError",
          "evalue": "list index out of range",
          "traceback": [
            "\u001b[0;31m---------------------------------------------------------------------------\u001b[0m",
            "\u001b[0;31mIndexError\u001b[0m                                Traceback (most recent call last)",
            "\u001b[0;32m<ipython-input-48-baa8b4ccd19d>\u001b[0m in \u001b[0;36m<cell line: 0>\u001b[0;34m()\u001b[0m\n\u001b[0;32m----> 1\u001b[0;31m \u001b[0msent\u001b[0m\u001b[0;34m[\u001b[0m\u001b[0;36m10\u001b[0m\u001b[0;34m]\u001b[0m\u001b[0;34m\u001b[0m\u001b[0;34m\u001b[0m\u001b[0m\n\u001b[0m",
            "\u001b[0;31mIndexError\u001b[0m: list index out of range"
          ]
        }
      ]
    },
    {
      "cell_type": "code",
      "source": [
        "sent[5:8]"
      ],
      "metadata": {
        "colab": {
          "base_uri": "https://localhost:8080/"
        },
        "id": "_CInzixiR65y",
        "outputId": "732a6b1c-5e38-4391-d599-e270ca3e38e4"
      },
      "execution_count": 49,
      "outputs": [
        {
          "output_type": "execute_result",
          "data": {
            "text/plain": [
              "['word6', 'word7', 'word8']"
            ]
          },
          "metadata": {},
          "execution_count": 49
        }
      ]
    },
    {
      "cell_type": "code",
      "source": [
        " sent[5]"
      ],
      "metadata": {
        "colab": {
          "base_uri": "https://localhost:8080/",
          "height": 36
        },
        "id": "ZEM9v1EGR-VQ",
        "outputId": "fdc5f94c-8188-4f0f-e63e-6ea572d14e25"
      },
      "execution_count": 50,
      "outputs": [
        {
          "output_type": "execute_result",
          "data": {
            "text/plain": [
              "'word6'"
            ],
            "application/vnd.google.colaboratory.intrinsic+json": {
              "type": "string"
            }
          },
          "metadata": {},
          "execution_count": 50
        }
      ]
    },
    {
      "cell_type": "code",
      "source": [
        " sent[6]"
      ],
      "metadata": {
        "colab": {
          "base_uri": "https://localhost:8080/",
          "height": 36
        },
        "id": "0310uUznSAGs",
        "outputId": "eefcc60f-5346-40a4-9da3-d7cc4181e683"
      },
      "execution_count": 51,
      "outputs": [
        {
          "output_type": "execute_result",
          "data": {
            "text/plain": [
              "'word7'"
            ],
            "application/vnd.google.colaboratory.intrinsic+json": {
              "type": "string"
            }
          },
          "metadata": {},
          "execution_count": 51
        }
      ]
    },
    {
      "cell_type": "code",
      "source": [
        " sent[7]"
      ],
      "metadata": {
        "colab": {
          "base_uri": "https://localhost:8080/",
          "height": 36
        },
        "id": "TZWrkQLNSBxc",
        "outputId": "dabb8648-eed5-4e55-923b-8c117293a976"
      },
      "execution_count": 52,
      "outputs": [
        {
          "output_type": "execute_result",
          "data": {
            "text/plain": [
              "'word8'"
            ],
            "application/vnd.google.colaboratory.intrinsic+json": {
              "type": "string"
            }
          },
          "metadata": {},
          "execution_count": 52
        }
      ]
    },
    {
      "cell_type": "code",
      "source": [
        "sent[:3]"
      ],
      "metadata": {
        "colab": {
          "base_uri": "https://localhost:8080/"
        },
        "id": "kogBDdc9SESV",
        "outputId": "692e481a-a3ac-4010-fd8a-c5dd294c837f"
      },
      "execution_count": 53,
      "outputs": [
        {
          "output_type": "execute_result",
          "data": {
            "text/plain": [
              "['word1', 'word2', 'word3']"
            ]
          },
          "metadata": {},
          "execution_count": 53
        }
      ]
    },
    {
      "cell_type": "code",
      "source": [
        "text2[141525:]"
      ],
      "metadata": {
        "colab": {
          "base_uri": "https://localhost:8080/"
        },
        "id": "xx68BiJjSHFz",
        "outputId": "e4d4e153-9dd5-4377-f6b2-c3b16ddaf103"
      },
      "execution_count": 54,
      "outputs": [
        {
          "output_type": "execute_result",
          "data": {
            "text/plain": [
              "['among',\n",
              " 'the',\n",
              " 'merits',\n",
              " 'and',\n",
              " 'the',\n",
              " 'happiness',\n",
              " 'of',\n",
              " 'Elinor',\n",
              " 'and',\n",
              " 'Marianne',\n",
              " ',',\n",
              " 'let',\n",
              " 'it',\n",
              " 'not',\n",
              " 'be',\n",
              " 'ranked',\n",
              " 'as',\n",
              " 'the',\n",
              " 'least',\n",
              " 'considerable',\n",
              " ',',\n",
              " 'that',\n",
              " 'though',\n",
              " 'sisters',\n",
              " ',',\n",
              " 'and',\n",
              " 'living',\n",
              " 'almost',\n",
              " 'within',\n",
              " 'sight',\n",
              " 'of',\n",
              " 'each',\n",
              " 'other',\n",
              " ',',\n",
              " 'they',\n",
              " 'could',\n",
              " 'live',\n",
              " 'without',\n",
              " 'disagreement',\n",
              " 'between',\n",
              " 'themselves',\n",
              " ',',\n",
              " 'or',\n",
              " 'producing',\n",
              " 'coolness',\n",
              " 'between',\n",
              " 'their',\n",
              " 'husbands',\n",
              " '.',\n",
              " 'THE',\n",
              " 'END']"
            ]
          },
          "metadata": {},
          "execution_count": 54
        }
      ]
    },
    {
      "cell_type": "code",
      "source": [
        "sent[0] = 'First'"
      ],
      "metadata": {
        "id": "1iDEe3SDSI_D"
      },
      "execution_count": 55,
      "outputs": []
    },
    {
      "cell_type": "code",
      "source": [
        "sent[9] = 'Last'"
      ],
      "metadata": {
        "id": "NXsPG2IjSNIW"
      },
      "execution_count": 56,
      "outputs": []
    },
    {
      "cell_type": "code",
      "source": [
        "len(sent)"
      ],
      "metadata": {
        "colab": {
          "base_uri": "https://localhost:8080/"
        },
        "id": "41Z08jh7SQiP",
        "outputId": "31956645-2a4b-48c1-d90b-ac7fc99a6d9d"
      },
      "execution_count": 57,
      "outputs": [
        {
          "output_type": "execute_result",
          "data": {
            "text/plain": [
              "10"
            ]
          },
          "metadata": {},
          "execution_count": 57
        }
      ]
    },
    {
      "cell_type": "code",
      "source": [
        " sent[1:9] = ['Second', 'Third']"
      ],
      "metadata": {
        "id": "9DA2Rex6STm4"
      },
      "execution_count": 58,
      "outputs": []
    },
    {
      "cell_type": "code",
      "source": [
        "sent"
      ],
      "metadata": {
        "colab": {
          "base_uri": "https://localhost:8080/"
        },
        "id": "WFRDO32cSVEv",
        "outputId": "ab2c96a5-f020-4763-b695-64d72c4dd53d"
      },
      "execution_count": 59,
      "outputs": [
        {
          "output_type": "execute_result",
          "data": {
            "text/plain": [
              "['First', 'Second', 'Third', 'Last']"
            ]
          },
          "metadata": {},
          "execution_count": 59
        }
      ]
    },
    {
      "cell_type": "code",
      "source": [
        "sent[9]"
      ],
      "metadata": {
        "colab": {
          "base_uri": "https://localhost:8080/",
          "height": 141
        },
        "id": "W1Vrj6ypSV0n",
        "outputId": "4508ee6f-56b3-4d35-c545-9ab32b5d551a"
      },
      "execution_count": 60,
      "outputs": [
        {
          "output_type": "error",
          "ename": "IndexError",
          "evalue": "list index out of range",
          "traceback": [
            "\u001b[0;31m---------------------------------------------------------------------------\u001b[0m",
            "\u001b[0;31mIndexError\u001b[0m                                Traceback (most recent call last)",
            "\u001b[0;32m<ipython-input-60-9d73df3f8677>\u001b[0m in \u001b[0;36m<cell line: 0>\u001b[0;34m()\u001b[0m\n\u001b[0;32m----> 1\u001b[0;31m \u001b[0msent\u001b[0m\u001b[0;34m[\u001b[0m\u001b[0;36m9\u001b[0m\u001b[0;34m]\u001b[0m\u001b[0;34m\u001b[0m\u001b[0;34m\u001b[0m\u001b[0m\n\u001b[0m",
            "\u001b[0;31mIndexError\u001b[0m: list index out of range"
          ]
        }
      ]
    },
    {
      "cell_type": "code",
      "source": [
        "sent1 = ['Call', 'me', 'Ishmael', '.']"
      ],
      "metadata": {
        "id": "3-xOfoUiSYkJ"
      },
      "execution_count": 61,
      "outputs": []
    },
    {
      "cell_type": "code",
      "source": [
        "my_sent = ['Bravely', 'bold', 'Sir', 'Robin', ',', 'rode', 'forth', 'from', 'Camelot', '.']\n",
        "noun_phrase = my_sent[1:4]\n",
        "noun_phrase"
      ],
      "metadata": {
        "colab": {
          "base_uri": "https://localhost:8080/"
        },
        "id": "QethBMuSSbY9",
        "outputId": "31bf84fb-21cc-4c5d-d540-3614c2c6ecec"
      },
      "execution_count": 62,
      "outputs": [
        {
          "output_type": "execute_result",
          "data": {
            "text/plain": [
              "['bold', 'Sir', 'Robin']"
            ]
          },
          "metadata": {},
          "execution_count": 62
        }
      ]
    },
    {
      "cell_type": "code",
      "source": [
        "wOrDs = sorted(noun_phrase)\n",
        "wOrDs"
      ],
      "metadata": {
        "colab": {
          "base_uri": "https://localhost:8080/"
        },
        "id": "iUrdFJsPSkpR",
        "outputId": "356e0d34-2ae6-4f14-a973-5fcaa46333fc"
      },
      "execution_count": 63,
      "outputs": [
        {
          "output_type": "execute_result",
          "data": {
            "text/plain": [
              "['Robin', 'Sir', 'bold']"
            ]
          },
          "metadata": {},
          "execution_count": 63
        }
      ]
    },
    {
      "cell_type": "code",
      "source": [
        "not = 'Camelot'"
      ],
      "metadata": {
        "colab": {
          "base_uri": "https://localhost:8080/",
          "height": 106
        },
        "id": "epMXefZPSoI0",
        "outputId": "609134ee-9711-42d2-87a6-7e0b338c2e32"
      },
      "execution_count": 64,
      "outputs": [
        {
          "output_type": "error",
          "ename": "SyntaxError",
          "evalue": "invalid syntax (<ipython-input-64-673e7f915d89>, line 1)",
          "traceback": [
            "\u001b[0;36m  File \u001b[0;32m\"<ipython-input-64-673e7f915d89>\"\u001b[0;36m, line \u001b[0;32m1\u001b[0m\n\u001b[0;31m    not = 'Camelot'\u001b[0m\n\u001b[0m        ^\u001b[0m\n\u001b[0;31mSyntaxError\u001b[0m\u001b[0;31m:\u001b[0m invalid syntax\n"
          ]
        }
      ]
    },
    {
      "cell_type": "code",
      "source": [
        "vocab = set(text1)\n",
        "vocab_size = len(vocab)\n",
        "vocab_size"
      ],
      "metadata": {
        "colab": {
          "base_uri": "https://localhost:8080/"
        },
        "id": "Ao3BhJAWSsSf",
        "outputId": "e35fefb3-ff2f-47c4-fec3-608bffb6c7fb"
      },
      "execution_count": 65,
      "outputs": [
        {
          "output_type": "execute_result",
          "data": {
            "text/plain": [
              "19317"
            ]
          },
          "metadata": {},
          "execution_count": 65
        }
      ]
    },
    {
      "cell_type": "code",
      "source": [
        "name = 'Monty'\n",
        "name[0]"
      ],
      "metadata": {
        "colab": {
          "base_uri": "https://localhost:8080/",
          "height": 36
        },
        "id": "JMnHbwxlSwV8",
        "outputId": "0f3b7df4-851a-4343-889d-f5a1ad66e084"
      },
      "execution_count": 66,
      "outputs": [
        {
          "output_type": "execute_result",
          "data": {
            "text/plain": [
              "'M'"
            ],
            "application/vnd.google.colaboratory.intrinsic+json": {
              "type": "string"
            }
          },
          "metadata": {},
          "execution_count": 66
        }
      ]
    },
    {
      "cell_type": "code",
      "source": [
        "name[:4]\n",
        "'Mont'"
      ],
      "metadata": {
        "colab": {
          "base_uri": "https://localhost:8080/",
          "height": 36
        },
        "id": "_mxwgj5JS3wj",
        "outputId": "7117d206-94de-4532-b077-09dc036cced5"
      },
      "execution_count": 67,
      "outputs": [
        {
          "output_type": "execute_result",
          "data": {
            "text/plain": [
              "'Mont'"
            ],
            "application/vnd.google.colaboratory.intrinsic+json": {
              "type": "string"
            }
          },
          "metadata": {},
          "execution_count": 67
        }
      ]
    },
    {
      "cell_type": "code",
      "source": [
        "name * 2"
      ],
      "metadata": {
        "colab": {
          "base_uri": "https://localhost:8080/",
          "height": 36
        },
        "id": "AaCT2hXTS59y",
        "outputId": "81915a5a-cba2-471b-8ecb-60316be3cabf"
      },
      "execution_count": 68,
      "outputs": [
        {
          "output_type": "execute_result",
          "data": {
            "text/plain": [
              "'MontyMonty'"
            ],
            "application/vnd.google.colaboratory.intrinsic+json": {
              "type": "string"
            }
          },
          "metadata": {},
          "execution_count": 68
        }
      ]
    },
    {
      "cell_type": "code",
      "source": [
        "name + '!'"
      ],
      "metadata": {
        "colab": {
          "base_uri": "https://localhost:8080/",
          "height": 36
        },
        "id": "f-e2H2tYS82C",
        "outputId": "35fea7bc-54b7-40fc-f200-b690cb6e5933"
      },
      "execution_count": 69,
      "outputs": [
        {
          "output_type": "execute_result",
          "data": {
            "text/plain": [
              "'Monty!'"
            ],
            "application/vnd.google.colaboratory.intrinsic+json": {
              "type": "string"
            }
          },
          "metadata": {},
          "execution_count": 69
        }
      ]
    },
    {
      "cell_type": "code",
      "source": [
        "' '.join(['Monty', 'Python'])"
      ],
      "metadata": {
        "colab": {
          "base_uri": "https://localhost:8080/",
          "height": 36
        },
        "id": "GnMPBxwUS_BF",
        "outputId": "35ff571f-7372-4308-bcc0-b32635ecb764"
      },
      "execution_count": 72,
      "outputs": [
        {
          "output_type": "execute_result",
          "data": {
            "text/plain": [
              "'Monty Python'"
            ],
            "application/vnd.google.colaboratory.intrinsic+json": {
              "type": "string"
            }
          },
          "metadata": {},
          "execution_count": 72
        }
      ]
    },
    {
      "cell_type": "code",
      "source": [
        "'Monty Python'.split()"
      ],
      "metadata": {
        "colab": {
          "base_uri": "https://localhost:8080/"
        },
        "id": "qldJWzNTTG-m",
        "outputId": "d8da213f-a947-4796-916e-ecb618869b35"
      },
      "execution_count": 73,
      "outputs": [
        {
          "output_type": "execute_result",
          "data": {
            "text/plain": [
              "['Monty', 'Python']"
            ]
          },
          "metadata": {},
          "execution_count": 73
        }
      ]
    },
    {
      "cell_type": "code",
      "source": [
        "saying = ['After', 'all', 'is', 'said', 'and', 'done', 'more', 'is', 'said', 'than', 'done']\n",
        "tokens = set(saying)\n",
        "tokens = sorted(tokens)\n",
        "tokens[-2:]"
      ],
      "metadata": {
        "colab": {
          "base_uri": "https://localhost:8080/"
        },
        "id": "TOsgrATtTNlm",
        "outputId": "8825eef9-6020-48e3-f4da-f7e1226acafa"
      },
      "execution_count": 74,
      "outputs": [
        {
          "output_type": "execute_result",
          "data": {
            "text/plain": [
              "['said', 'than']"
            ]
          },
          "metadata": {},
          "execution_count": 74
        }
      ]
    },
    {
      "cell_type": "code",
      "source": [
        "fdist1 = FreqDist(text1)\n",
        "fdist1"
      ],
      "metadata": {
        "colab": {
          "base_uri": "https://localhost:8080/"
        },
        "id": "-gd0mETKTV4A",
        "outputId": "ec10ce72-6c63-490d-d474-6c8d5676f3ca"
      },
      "execution_count": 78,
      "outputs": [
        {
          "output_type": "execute_result",
          "data": {
            "text/plain": [
              "FreqDist({',': 18713, 'the': 13721, '.': 6862, 'of': 6536, 'and': 6024, 'a': 4569, 'to': 4542, ';': 4072, 'in': 3916, 'that': 2982, ...})"
            ]
          },
          "metadata": {},
          "execution_count": 78
        }
      ]
    },
    {
      "cell_type": "code",
      "source": [
        "vocabulary1 = list(fdist1.keys())\n",
        "vocabulary1[:50]"
      ],
      "metadata": {
        "colab": {
          "base_uri": "https://localhost:8080/"
        },
        "id": "4dpiHXDfTlBO",
        "outputId": "b8872b2b-3d34-43cf-c869-456dbd06566e"
      },
      "execution_count": 93,
      "outputs": [
        {
          "output_type": "execute_result",
          "data": {
            "text/plain": [
              "['[',\n",
              " 'Moby',\n",
              " 'Dick',\n",
              " 'by',\n",
              " 'Herman',\n",
              " 'Melville',\n",
              " '1851',\n",
              " ']',\n",
              " 'ETYMOLOGY',\n",
              " '.',\n",
              " '(',\n",
              " 'Supplied',\n",
              " 'a',\n",
              " 'Late',\n",
              " 'Consumptive',\n",
              " 'Usher',\n",
              " 'to',\n",
              " 'Grammar',\n",
              " 'School',\n",
              " ')',\n",
              " 'The',\n",
              " 'pale',\n",
              " '--',\n",
              " 'threadbare',\n",
              " 'in',\n",
              " 'coat',\n",
              " ',',\n",
              " 'heart',\n",
              " 'body',\n",
              " 'and',\n",
              " 'brain',\n",
              " ';',\n",
              " 'I',\n",
              " 'see',\n",
              " 'him',\n",
              " 'now',\n",
              " 'He',\n",
              " 'was',\n",
              " 'ever',\n",
              " 'dusting',\n",
              " 'his',\n",
              " 'old',\n",
              " 'lexicons',\n",
              " 'grammars',\n",
              " 'with',\n",
              " 'queer',\n",
              " 'handkerchief',\n",
              " 'mockingly',\n",
              " 'embellished',\n",
              " 'all']"
            ]
          },
          "metadata": {},
          "execution_count": 93
        }
      ]
    },
    {
      "cell_type": "code",
      "source": [
        "fdist1['whale']"
      ],
      "metadata": {
        "colab": {
          "base_uri": "https://localhost:8080/"
        },
        "id": "jHj6tAa_UJJT",
        "outputId": "90f9a42c-38bb-46bf-8402-b6133d7bafc3"
      },
      "execution_count": 94,
      "outputs": [
        {
          "output_type": "execute_result",
          "data": {
            "text/plain": [
              "906"
            ]
          },
          "metadata": {},
          "execution_count": 94
        }
      ]
    },
    {
      "cell_type": "code",
      "source": [
        "V = set(text1)\n",
        "long_words = [w for w in V if len(w) > 15]\n",
        "sorted(long_words)"
      ],
      "metadata": {
        "colab": {
          "base_uri": "https://localhost:8080/"
        },
        "id": "KVBeML5SVI93",
        "outputId": "383108c0-9ef8-48d8-da91-672f92c4876a"
      },
      "execution_count": 95,
      "outputs": [
        {
          "output_type": "execute_result",
          "data": {
            "text/plain": [
              "['CIRCUMNAVIGATION',\n",
              " 'Physiognomically',\n",
              " 'apprehensiveness',\n",
              " 'cannibalistically',\n",
              " 'characteristically',\n",
              " 'circumnavigating',\n",
              " 'circumnavigation',\n",
              " 'circumnavigations',\n",
              " 'comprehensiveness',\n",
              " 'hermaphroditical',\n",
              " 'indiscriminately',\n",
              " 'indispensableness',\n",
              " 'irresistibleness',\n",
              " 'physiognomically',\n",
              " 'preternaturalness',\n",
              " 'responsibilities',\n",
              " 'simultaneousness',\n",
              " 'subterraneousness',\n",
              " 'supernaturalness',\n",
              " 'superstitiousness',\n",
              " 'uncomfortableness',\n",
              " 'uncompromisedness',\n",
              " 'undiscriminating',\n",
              " 'uninterpenetratingly']"
            ]
          },
          "metadata": {},
          "execution_count": 95
        }
      ]
    },
    {
      "cell_type": "code",
      "source": [
        "fdist5 = FreqDist(text5)\n",
        "sorted([w for w in set(text5) if len(w) > 7 and fdist5[w] > 7])"
      ],
      "metadata": {
        "colab": {
          "base_uri": "https://localhost:8080/"
        },
        "id": "AOGCLS1fWyaB",
        "outputId": "f3658963-019d-45e2-a636-ce5cceaeda5f"
      },
      "execution_count": 96,
      "outputs": [
        {
          "output_type": "execute_result",
          "data": {
            "text/plain": [
              "['#14-19teens',\n",
              " '#talkcity_adults',\n",
              " '((((((((((',\n",
              " '........',\n",
              " 'Question',\n",
              " 'actually',\n",
              " 'anything',\n",
              " 'computer',\n",
              " 'cute.-ass',\n",
              " 'everyone',\n",
              " 'football',\n",
              " 'innocent',\n",
              " 'listening',\n",
              " 'remember',\n",
              " 'seriously',\n",
              " 'something',\n",
              " 'together',\n",
              " 'tomorrow',\n",
              " 'watching']"
            ]
          },
          "metadata": {},
          "execution_count": 96
        }
      ]
    },
    {
      "cell_type": "code",
      "source": [
        "bigrams(['more', 'is', 'said', 'than', 'done'])"
      ],
      "metadata": {
        "colab": {
          "base_uri": "https://localhost:8080/"
        },
        "id": "cI6qIYWsW1uF",
        "outputId": "5b0aad18-bbcd-4395-aa7d-0de1263b87d2"
      },
      "execution_count": 97,
      "outputs": [
        {
          "output_type": "execute_result",
          "data": {
            "text/plain": [
              "<generator object bigrams at 0x7e4f66f53bc0>"
            ]
          },
          "metadata": {},
          "execution_count": 97
        }
      ]
    },
    {
      "cell_type": "code",
      "source": [
        "text4.collocations()"
      ],
      "metadata": {
        "colab": {
          "base_uri": "https://localhost:8080/"
        },
        "id": "5hqb-gbiW4bm",
        "outputId": "66638751-8ad9-4093-fa49-37051f55acca"
      },
      "execution_count": 98,
      "outputs": [
        {
          "output_type": "stream",
          "name": "stdout",
          "text": [
            "United States; fellow citizens; years ago; four years; Federal\n",
            "Government; General Government; American people; Vice President; God\n",
            "bless; Chief Justice; one another; fellow Americans; Old World;\n",
            "Almighty God; Fellow citizens; Chief Magistrate; every citizen; Indian\n",
            "tribes; public debt; foreign nations\n"
          ]
        }
      ]
    },
    {
      "cell_type": "code",
      "source": [
        " text8.collocations()"
      ],
      "metadata": {
        "colab": {
          "base_uri": "https://localhost:8080/"
        },
        "id": "YE4qWBgMW5-V",
        "outputId": "470375cc-6266-4255-8257-31d5fc1ec3cd"
      },
      "execution_count": 99,
      "outputs": [
        {
          "output_type": "stream",
          "name": "stdout",
          "text": [
            "would like; medium build; social drinker; quiet nights; non smoker;\n",
            "long term; age open; Would like; easy going; financially secure; fun\n",
            "times; similar interests; Age open; weekends away; poss rship; well\n",
            "presented; never married; single mum; permanent relationship; slim\n",
            "build\n"
          ]
        }
      ]
    },
    {
      "cell_type": "code",
      "source": [
        " [len(w) for w in text1]"
      ],
      "metadata": {
        "colab": {
          "base_uri": "https://localhost:8080/"
        },
        "id": "Z3QD4S-9W8OW",
        "outputId": "5aaa341b-d1c4-4d19-b2c0-f47adc9ec166"
      },
      "execution_count": 100,
      "outputs": [
        {
          "output_type": "execute_result",
          "data": {
            "text/plain": [
              "[1,\n",
              " 4,\n",
              " 4,\n",
              " 2,\n",
              " 6,\n",
              " 8,\n",
              " 4,\n",
              " 1,\n",
              " 9,\n",
              " 1,\n",
              " 1,\n",
              " 8,\n",
              " 2,\n",
              " 1,\n",
              " 4,\n",
              " 11,\n",
              " 5,\n",
              " 2,\n",
              " 1,\n",
              " 7,\n",
              " 6,\n",
              " 1,\n",
              " 3,\n",
              " 4,\n",
              " 5,\n",
              " 2,\n",
              " 10,\n",
              " 2,\n",
              " 4,\n",
              " 1,\n",
              " 5,\n",
              " 1,\n",
              " 4,\n",
              " 1,\n",
              " 3,\n",
              " 5,\n",
              " 1,\n",
              " 1,\n",
              " 3,\n",
              " 3,\n",
              " 3,\n",
              " 1,\n",
              " 2,\n",
              " 3,\n",
              " 4,\n",
              " 7,\n",
              " 3,\n",
              " 3,\n",
              " 8,\n",
              " 3,\n",
              " 8,\n",
              " 1,\n",
              " 4,\n",
              " 1,\n",
              " 5,\n",
              " 12,\n",
              " 1,\n",
              " 9,\n",
              " 11,\n",
              " 4,\n",
              " 3,\n",
              " 3,\n",
              " 3,\n",
              " 5,\n",
              " 2,\n",
              " 3,\n",
              " 3,\n",
              " 5,\n",
              " 7,\n",
              " 2,\n",
              " 3,\n",
              " 5,\n",
              " 1,\n",
              " 2,\n",
              " 5,\n",
              " 2,\n",
              " 4,\n",
              " 3,\n",
              " 3,\n",
              " 8,\n",
              " 1,\n",
              " 2,\n",
              " 7,\n",
              " 6,\n",
              " 8,\n",
              " 3,\n",
              " 2,\n",
              " 3,\n",
              " 9,\n",
              " 1,\n",
              " 1,\n",
              " 5,\n",
              " 3,\n",
              " 4,\n",
              " 2,\n",
              " 4,\n",
              " 2,\n",
              " 6,\n",
              " 6,\n",
              " 1,\n",
              " 3,\n",
              " 2,\n",
              " 5,\n",
              " 4,\n",
              " 2,\n",
              " 4,\n",
              " 4,\n",
              " 1,\n",
              " 5,\n",
              " 1,\n",
              " 4,\n",
              " 2,\n",
              " 2,\n",
              " 2,\n",
              " 6,\n",
              " 2,\n",
              " 3,\n",
              " 6,\n",
              " 7,\n",
              " 3,\n",
              " 1,\n",
              " 7,\n",
              " 9,\n",
              " 1,\n",
              " 3,\n",
              " 6,\n",
              " 1,\n",
              " 1,\n",
              " 5,\n",
              " 6,\n",
              " 5,\n",
              " 6,\n",
              " 3,\n",
              " 13,\n",
              " 2,\n",
              " 3,\n",
              " 4,\n",
              " 1,\n",
              " 3,\n",
              " 7,\n",
              " 4,\n",
              " 5,\n",
              " 2,\n",
              " 3,\n",
              " 4,\n",
              " 2,\n",
              " 2,\n",
              " 8,\n",
              " 1,\n",
              " 5,\n",
              " 1,\n",
              " 3,\n",
              " 2,\n",
              " 1,\n",
              " 3,\n",
              " 3,\n",
              " 1,\n",
              " 4,\n",
              " 1,\n",
              " 4,\n",
              " 6,\n",
              " 2,\n",
              " 5,\n",
              " 4,\n",
              " 9,\n",
              " 2,\n",
              " 7,\n",
              " 1,\n",
              " 3,\n",
              " 2,\n",
              " 3,\n",
              " 1,\n",
              " 5,\n",
              " 2,\n",
              " 6,\n",
              " 2,\n",
              " 7,\n",
              " 2,\n",
              " 2,\n",
              " 7,\n",
              " 1,\n",
              " 1,\n",
              " 10,\n",
              " 1,\n",
              " 5,\n",
              " 1,\n",
              " 3,\n",
              " 2,\n",
              " 2,\n",
              " 4,\n",
              " 11,\n",
              " 4,\n",
              " 3,\n",
              " 3,\n",
              " 1,\n",
              " 3,\n",
              " 3,\n",
              " 1,\n",
              " 6,\n",
              " 1,\n",
              " 1,\n",
              " 1,\n",
              " 1,\n",
              " 1,\n",
              " 4,\n",
              " 1,\n",
              " 3,\n",
              " 1,\n",
              " 2,\n",
              " 4,\n",
              " 1,\n",
              " 2,\n",
              " 6,\n",
              " 2,\n",
              " 2,\n",
              " 10,\n",
              " 1,\n",
              " 1,\n",
              " 10,\n",
              " 5,\n",
              " 1,\n",
              " 5,\n",
              " 1,\n",
              " 5,\n",
              " 1,\n",
              " 5,\n",
              " 1,\n",
              " 5,\n",
              " 1,\n",
              " 5,\n",
              " 1,\n",
              " 5,\n",
              " 1,\n",
              " 5,\n",
              " 1,\n",
              " 6,\n",
              " 1,\n",
              " 3,\n",
              " 1,\n",
              " 5,\n",
              " 1,\n",
              " 4,\n",
              " 1,\n",
              " 7,\n",
              " 1,\n",
              " 5,\n",
              " 1,\n",
              " 9,\n",
              " 1,\n",
              " 5,\n",
              " 1,\n",
              " 7,\n",
              " 1,\n",
              " 7,\n",
              " 1,\n",
              " 6,\n",
              " 1,\n",
              " 7,\n",
              " 1,\n",
              " 7,\n",
              " 1,\n",
              " 5,\n",
              " 1,\n",
              " 4,\n",
              " 1,\n",
              " 4,\n",
              " 1,\n",
              " 5,\n",
              " 1,\n",
              " 5,\n",
              " 1,\n",
              " 4,\n",
              " 1,\n",
              " 4,\n",
              " 1,\n",
              " 11,\n",
              " 1,\n",
              " 8,\n",
              " 1,\n",
              " 8,\n",
              " 2,\n",
              " 1,\n",
              " 3,\n",
              " 1,\n",
              " 3,\n",
              " 1,\n",
              " 9,\n",
              " 2,\n",
              " 2,\n",
              " 4,\n",
              " 2,\n",
              " 4,\n",
              " 4,\n",
              " 4,\n",
              " 4,\n",
              " 11,\n",
              " 8,\n",
              " 3,\n",
              " 4,\n",
              " 1,\n",
              " 4,\n",
              " 2,\n",
              " 1,\n",
              " 4,\n",
              " 5,\n",
              " 2,\n",
              " 1,\n",
              " 3,\n",
              " 1,\n",
              " 3,\n",
              " 7,\n",
              " 2,\n",
              " 4,\n",
              " 4,\n",
              " 7,\n",
              " 3,\n",
              " 4,\n",
              " 8,\n",
              " 3,\n",
              " 6,\n",
              " 1,\n",
              " 6,\n",
              " 2,\n",
              " 3,\n",
              " 5,\n",
              " 1,\n",
              " 7,\n",
              " 2,\n",
              " 8,\n",
              " 6,\n",
              " 9,\n",
              " 2,\n",
              " 6,\n",
              " 2,\n",
              " 5,\n",
              " 7,\n",
              " 4,\n",
              " 2,\n",
              " 3,\n",
              " 4,\n",
              " 10,\n",
              " 1,\n",
              " 6,\n",
              " 2,\n",
              " 7,\n",
              " 1,\n",
              " 9,\n",
              " 3,\n",
              " 4,\n",
              " 3,\n",
              " 1,\n",
              " 2,\n",
              " 5,\n",
              " 4,\n",
              " 2,\n",
              " 5,\n",
              " 1,\n",
              " 4,\n",
              " 3,\n",
              " 8,\n",
              " 1,\n",
              " 8,\n",
              " 5,\n",
              " 10,\n",
              " 1,\n",
              " 7,\n",
              " 9,\n",
              " 1,\n",
              " 2,\n",
              " 5,\n",
              " 8,\n",
              " 1,\n",
              " 3,\n",
              " 9,\n",
              " 6,\n",
              " 8,\n",
              " 1,\n",
              " 3,\n",
              " 4,\n",
              " 2,\n",
              " 1,\n",
              " 2,\n",
              " 8,\n",
              " 3,\n",
              " 7,\n",
              " 7,\n",
              " 9,\n",
              " 1,\n",
              " 2,\n",
              " 4,\n",
              " 2,\n",
              " 3,\n",
              " 5,\n",
              " 4,\n",
              " 9,\n",
              " 1,\n",
              " 5,\n",
              " 8,\n",
              " 3,\n",
              " 6,\n",
              " 8,\n",
              " 2,\n",
              " 12,\n",
              " 1,\n",
              " 2,\n",
              " 9,\n",
              " 1,\n",
              " 8,\n",
              " 4,\n",
              " 1,\n",
              " 1,\n",
              " 3,\n",
              " 4,\n",
              " 2,\n",
              " 4,\n",
              " 3,\n",
              " 4,\n",
              " 13,\n",
              " 4,\n",
              " 1,\n",
              " 7,\n",
              " 1,\n",
              " 7,\n",
              " 1,\n",
              " 3,\n",
              " 4,\n",
              " 2,\n",
              " 9,\n",
              " 1,\n",
              " 2,\n",
              " 4,\n",
              " 7,\n",
              " 3,\n",
              " 11,\n",
              " 1,\n",
              " 9,\n",
              " 3,\n",
              " 3,\n",
              " 1,\n",
              " 2,\n",
              " 4,\n",
              " 4,\n",
              " 4,\n",
              " 1,\n",
              " 4,\n",
              " 5,\n",
              " 2,\n",
              " 1,\n",
              " 3,\n",
              " 1,\n",
              " 3,\n",
              " 1,\n",
              " 5,\n",
              " 11,\n",
              " 1,\n",
              " 2,\n",
              " 1,\n",
              " 4,\n",
              " 9,\n",
              " 2,\n",
              " 4,\n",
              " 8,\n",
              " 1,\n",
              " 6,\n",
              " 5,\n",
              " 5,\n",
              " 2,\n",
              " 4,\n",
              " 2,\n",
              " 4,\n",
              " 5,\n",
              " 4,\n",
              " 4,\n",
              " 4,\n",
              " 1,\n",
              " 3,\n",
              " 3,\n",
              " 4,\n",
              " 4,\n",
              " 4,\n",
              " 6,\n",
              " 5,\n",
              " 2,\n",
              " 3,\n",
              " 4,\n",
              " 1,\n",
              " 6,\n",
              " 1,\n",
              " 3,\n",
              " 4,\n",
              " 4,\n",
              " 3,\n",
              " 9,\n",
              " 5,\n",
              " 2,\n",
              " 3,\n",
              " 1,\n",
              " 3,\n",
              " 4,\n",
              " 4,\n",
              " 1,\n",
              " 8,\n",
              " 1,\n",
              " 3,\n",
              " 1,\n",
              " 3,\n",
              " 4,\n",
              " 9,\n",
              " 4,\n",
              " 5,\n",
              " 1,\n",
              " 3,\n",
              " 3,\n",
              " 2,\n",
              " 4,\n",
              " 7,\n",
              " 1,\n",
              " 4,\n",
              " 4,\n",
              " 4,\n",
              " 3,\n",
              " 5,\n",
              " 7,\n",
              " 1,\n",
              " 3,\n",
              " 2,\n",
              " 3,\n",
              " 10,\n",
              " 10,\n",
              " 7,\n",
              " 2,\n",
              " 4,\n",
              " 2,\n",
              " 2,\n",
              " 1,\n",
              " 3,\n",
              " 1,\n",
              " 4,\n",
              " 1,\n",
              " 3,\n",
              " 2,\n",
              " 3,\n",
              " 4,\n",
              " 3,\n",
              " 4,\n",
              " 5,\n",
              " 2,\n",
              " 4,\n",
              " 2,\n",
              " 6,\n",
              " 3,\n",
              " 5,\n",
              " 1,\n",
              " 2,\n",
              " 2,\n",
              " 4,\n",
              " 3,\n",
              " 4,\n",
              " 5,\n",
              " 2,\n",
              " 3,\n",
              " 4,\n",
              " 2,\n",
              " 9,\n",
              " 1,\n",
              " 5,\n",
              " 4,\n",
              " 1,\n",
              " 5,\n",
              " 5,\n",
              " 3,\n",
              " 7,\n",
              " 5,\n",
              " 3,\n",
              " 3,\n",
              " 9,\n",
              " 3,\n",
              " 2,\n",
              " 1,\n",
              " 3,\n",
              " 4,\n",
              " 4,\n",
              " 4,\n",
              " 5,\n",
              " 3,\n",
              " 3,\n",
              " 5,\n",
              " 2,\n",
              " 3,\n",
              " 5,\n",
              " 1,\n",
              " 4,\n",
              " 4,\n",
              " 4,\n",
              " 6,\n",
              " 1,\n",
              " 3,\n",
              " 4,\n",
              " 7,\n",
              " 3,\n",
              " 4,\n",
              " 4,\n",
              " 6,\n",
              " 3,\n",
              " 8,\n",
              " 3,\n",
              " 3,\n",
              " 5,\n",
              " 1,\n",
              " 7,\n",
              " 7,\n",
              " 1,\n",
              " 3,\n",
              " 6,\n",
              " 8,\n",
              " 2,\n",
              " 4,\n",
              " 1,\n",
              " 8,\n",
              " 7,\n",
              " 1,\n",
              " 7,\n",
              " 1,\n",
              " 3,\n",
              " 7,\n",
              " 1,\n",
              " 7,\n",
              " 4,\n",
              " 6,\n",
              " 1,\n",
              " 4,\n",
              " 2,\n",
              " 6,\n",
              " 3,\n",
              " 10,\n",
              " 6,\n",
              " 8,\n",
              " 2,\n",
              " 5,\n",
              " 1,\n",
              " 2,\n",
              " 5,\n",
              " 6,\n",
              " 14,\n",
              " 7,\n",
              " 1,\n",
              " 8,\n",
              " 1,\n",
              " 1,\n",
              " 3,\n",
              " 3,\n",
              " 7,\n",
              " 5,\n",
              " 6,\n",
              " 2,\n",
              " 2,\n",
              " 7,\n",
              " 1,\n",
              " 1,\n",
              " 9,\n",
              " 6,\n",
              " 1,\n",
              " 4,\n",
              " 2,\n",
              " 5,\n",
              " 5,\n",
              " 3,\n",
              " 1,\n",
              " 3,\n",
              " 5,\n",
              " 5,\n",
              " 3,\n",
              " 4,\n",
              " 2,\n",
              " 2,\n",
              " 5,\n",
              " 2,\n",
              " 2,\n",
              " 3,\n",
              " 1,\n",
              " 1,\n",
              " 3,\n",
              " 3,\n",
              " 4,\n",
              " 3,\n",
              " 8,\n",
              " 1,\n",
              " 5,\n",
              " 4,\n",
              " 2,\n",
              " 7,\n",
              " 2,\n",
              " 5,\n",
              " 2,\n",
              " 2,\n",
              " 5,\n",
              " 1,\n",
              " 1,\n",
              " 5,\n",
              " 2,\n",
              " 3,\n",
              " 5,\n",
              " 1,\n",
              " 5,\n",
              " 2,\n",
              " 4,\n",
              " 9,\n",
              " 4,\n",
              " 4,\n",
              " 4,\n",
              " 4,\n",
              " 2,\n",
              " 4,\n",
              " 7,\n",
              " 2,\n",
              " 2,\n",
              " 6,\n",
              " 1,\n",
              " 1,\n",
              " 2,\n",
              " 4,\n",
              " 3,\n",
              " 1,\n",
              " 3,\n",
              " 4,\n",
              " 4,\n",
              " 3,\n",
              " 4,\n",
              " 1,\n",
              " 3,\n",
              " 5,\n",
              " 1,\n",
              " 3,\n",
              " 6,\n",
              " 5,\n",
              " 1,\n",
              " 5,\n",
              " 6,\n",
              " 9,\n",
              " 3,\n",
              " 8,\n",
              " 7,\n",
              " 1,\n",
              " 4,\n",
              " 9,\n",
              " 4,\n",
              " 7,\n",
              " 7,\n",
              " 1,\n",
              " 3,\n",
              " 2,\n",
              " 5,\n",
              " 4,\n",
              " 3,\n",
              " 6,\n",
              " 4,\n",
              " 2,\n",
              " 2,\n",
              " 3,\n",
              " 3,\n",
              " 2,\n",
              " 2,\n",
              " 6,\n",
              " 1,\n",
              " 3,\n",
              " 4,\n",
              " 5,\n",
              " 6,\n",
              " 7,\n",
              " 6,\n",
              " 6,\n",
              " 3,\n",
              " 5,\n",
              " 2,\n",
              " 4,\n",
              " 7,\n",
              " 1,\n",
              " 1,\n",
              " 5,\n",
              " 1,\n",
              " 2,\n",
              " 2,\n",
              " 5,\n",
              " 1,\n",
              " 4,\n",
              " 1,\n",
              " 2,\n",
              " 5,\n",
              " 1,\n",
              " 4,\n",
              " 2,\n",
              " 4,\n",
              " 3,\n",
              " 13,\n",
              " 4,\n",
              " 4,\n",
              " 5,\n",
              " 7,\n",
              " 2,\n",
              " 3,\n",
              " 1,\n",
              " 3,\n",
              " 9,\n",
              " 2,\n",
              " 3,\n",
              " 10,\n",
              " 4,\n",
              " 2,\n",
              " 3,\n",
              " 6,\n",
              " 2,\n",
              " 2,\n",
              " 7,\n",
              " 1,\n",
              " 1,\n",
              " 8,\n",
              " 1,\n",
              " 1,\n",
              " 6,\n",
              " 1,\n",
              " 1,\n",
              " 3,\n",
              " 6,\n",
              " 3,\n",
              " 8,\n",
              " 3,\n",
              " 4,\n",
              " 3,\n",
              " 3,\n",
              " 7,\n",
              " 6,\n",
              " 4,\n",
              " 3,\n",
              " 1,\n",
              " 5,\n",
              " 5,\n",
              " 3,\n",
              " 6,\n",
              " 3,\n",
              " 11,\n",
              " 6,\n",
              " 7,\n",
              " 1,\n",
              " 4,\n",
              " 2,\n",
              " 2,\n",
              " 4,\n",
              " 2,\n",
              " 6,\n",
              " 2,\n",
              " 4,\n",
              " 5,\n",
              " 2,\n",
              " 6,\n",
              " 2,\n",
              " 4,\n",
              " 2,\n",
              " 2,\n",
              " 7,\n",
              " 1,\n",
              " 1,\n",
              " 5,\n",
              " 1,\n",
              " 1,\n",
              " 8,\n",
              " 3,\n",
              " 2,\n",
              " 9,\n",
              " 3,\n",
              " 4,\n",
              " 2,\n",
              " 3,\n",
              " 3,\n",
              " 1,\n",
              " 4,\n",
              " 5,\n",
              " 7,\n",
              " 1,\n",
              " 5,\n",
              " 4,\n",
              " 6,\n",
              " 3,\n",
              " 5,\n",
              " 8,\n",
              " 2,\n",
              " 3,\n",
              " 3,\n",
              " 1,\n",
              " 8,\n",
              " 1,\n",
              " 5,\n",
              " 3,\n",
              " 6,\n",
              " 1,\n",
              " 3,\n",
              " 3,\n",
              " 2,\n",
              " 1,\n",
              " 4,\n",
              " 9,\n",
              " 4,\n",
              " 1,\n",
              " 3,\n",
              " 4,\n",
              " 4,\n",
              " 7,\n",
              " 2,\n",
              " 1,\n",
              " 4,\n",
              " 1,\n",
              " 7,\n",
              " 1,\n",
              " 7,\n",
              " 3,\n",
              " 5,\n",
              " 2,\n",
              " 3,\n",
              " 5,\n",
              " 1,\n",
              " 3,\n",
              " 7,\n",
              " 3,\n",
              " 3,\n",
              " 6,\n",
              " 3,\n",
              " 4,\n",
              " 1,\n",
              " 4,\n",
              " 2,\n",
              " 2,\n",
              " 5,\n",
              " 1,\n",
              " 1,\n",
              " 6,\n",
              " 1,\n",
              " 1,\n",
              " 3,\n",
              " 4,\n",
              " 7,\n",
              " 2,\n",
              " 1,\n",
              " 2,\n",
              " 7,\n",
              " 4,\n",
              " 7,\n",
              " 4,\n",
              " 4,\n",
              " 1,\n",
              " 4,\n",
              " 2,\n",
              " 8,\n",
              " 5,\n",
              " 1,\n",
              " 6,\n",
              " 1,\n",
              " 5,\n",
              " 3,\n",
              " 5,\n",
              " 2,\n",
              " 4,\n",
              " 5,\n",
              " 5,\n",
              " 3,\n",
              " 5,\n",
              " 5,\n",
              " 1,\n",
              " 2,\n",
              " 5,\n",
              " 2,\n",
              " 7,\n",
              " 4,\n",
              " 2,\n",
              " 3,\n",
              " 4,\n",
              " 1,\n",
              " 3,\n",
              " 3,\n",
              " 4,\n",
              " 6,\n",
              " 4,\n",
              " 7,\n",
              " 2,\n",
              " 3,\n",
              " 3,\n",
              " 7,\n",
              " 1,\n",
              " 2,\n",
              " 5,\n",
              " 4,\n",
              " 4,\n",
              " 5,\n",
              " 1,\n",
              " 5,\n",
              " 1,\n",
              " 4,\n",
              " 5,\n",
              " 5,\n",
              " 4,\n",
              " 1,\n",
              " 2,\n",
              " ...]"
            ]
          },
          "metadata": {},
          "execution_count": 100
        }
      ]
    },
    {
      "cell_type": "code",
      "source": [
        "fdist = FreqDist([len(w) for w in text1])\n",
        "fdist"
      ],
      "metadata": {
        "colab": {
          "base_uri": "https://localhost:8080/"
        },
        "id": "PFtQFZKFW-XN",
        "outputId": "660736ef-3022-46d3-c9b4-182f51531374"
      },
      "execution_count": 102,
      "outputs": [
        {
          "output_type": "execute_result",
          "data": {
            "text/plain": [
              "FreqDist({3: 50223, 1: 47933, 4: 42345, 2: 38513, 5: 26597, 6: 17111, 7: 14399, 8: 9966, 9: 6428, 10: 3528, ...})"
            ]
          },
          "metadata": {},
          "execution_count": 102
        }
      ]
    },
    {
      "cell_type": "code",
      "source": [
        "fdist.keys()"
      ],
      "metadata": {
        "colab": {
          "base_uri": "https://localhost:8080/"
        },
        "id": "VZZfpVFpXBBG",
        "outputId": "1b52e0a3-e381-4ab0-d641-93e8af47bc53"
      },
      "execution_count": 103,
      "outputs": [
        {
          "output_type": "execute_result",
          "data": {
            "text/plain": [
              "dict_keys([1, 4, 2, 6, 8, 9, 11, 5, 7, 3, 10, 12, 13, 14, 16, 15, 17, 18, 20])"
            ]
          },
          "metadata": {},
          "execution_count": 103
        }
      ]
    },
    {
      "cell_type": "code",
      "source": [
        "fdist.items()"
      ],
      "metadata": {
        "colab": {
          "base_uri": "https://localhost:8080/"
        },
        "id": "tmd4rF-3XF7Q",
        "outputId": "c3a59c68-d333-4d29-fd46-a9ebde61d616"
      },
      "execution_count": 104,
      "outputs": [
        {
          "output_type": "execute_result",
          "data": {
            "text/plain": [
              "dict_items([(1, 47933), (4, 42345), (2, 38513), (6, 17111), (8, 9966), (9, 6428), (11, 1873), (5, 26597), (7, 14399), (3, 50223), (10, 3528), (12, 1053), (13, 567), (14, 177), (16, 22), (15, 70), (17, 12), (18, 1), (20, 1)])"
            ]
          },
          "metadata": {},
          "execution_count": 104
        }
      ]
    },
    {
      "cell_type": "code",
      "source": [
        "fdist.max()"
      ],
      "metadata": {
        "colab": {
          "base_uri": "https://localhost:8080/"
        },
        "id": "eJrrVBpmXIgx",
        "outputId": "4dd618c1-58b2-4779-c2ea-61f3f552f1d1"
      },
      "execution_count": 105,
      "outputs": [
        {
          "output_type": "execute_result",
          "data": {
            "text/plain": [
              "3"
            ]
          },
          "metadata": {},
          "execution_count": 105
        }
      ]
    },
    {
      "cell_type": "code",
      "source": [
        "fdist[3]"
      ],
      "metadata": {
        "colab": {
          "base_uri": "https://localhost:8080/"
        },
        "id": "w4g1kdkgXKQI",
        "outputId": "3910d14c-f62f-429c-ae9a-7c195100b59e"
      },
      "execution_count": 106,
      "outputs": [
        {
          "output_type": "execute_result",
          "data": {
            "text/plain": [
              "50223"
            ]
          },
          "metadata": {},
          "execution_count": 106
        }
      ]
    },
    {
      "cell_type": "code",
      "source": [
        "fdist.freq(3)"
      ],
      "metadata": {
        "colab": {
          "base_uri": "https://localhost:8080/"
        },
        "id": "yf89mab5XLkP",
        "outputId": "0f4e8568-a6e0-4933-d02f-81bb2510627e"
      },
      "execution_count": 107,
      "outputs": [
        {
          "output_type": "execute_result",
          "data": {
            "text/plain": [
              "0.19255882431878046"
            ]
          },
          "metadata": {},
          "execution_count": 107
        }
      ]
    },
    {
      "cell_type": "code",
      "source": [
        "sent7"
      ],
      "metadata": {
        "colab": {
          "base_uri": "https://localhost:8080/"
        },
        "id": "0QaP1a4pXNQk",
        "outputId": "63f7438b-a6ec-42cd-c9e4-6bd9ed61c033"
      },
      "execution_count": 108,
      "outputs": [
        {
          "output_type": "execute_result",
          "data": {
            "text/plain": [
              "['Pierre',\n",
              " 'Vinken',\n",
              " ',',\n",
              " '61',\n",
              " 'years',\n",
              " 'old',\n",
              " ',',\n",
              " 'will',\n",
              " 'join',\n",
              " 'the',\n",
              " 'board',\n",
              " 'as',\n",
              " 'a',\n",
              " 'nonexecutive',\n",
              " 'director',\n",
              " 'Nov.',\n",
              " '29',\n",
              " '.']"
            ]
          },
          "metadata": {},
          "execution_count": 108
        }
      ]
    },
    {
      "cell_type": "code",
      "source": [
        "[w for w in sent7 if len(w) < 4]"
      ],
      "metadata": {
        "colab": {
          "base_uri": "https://localhost:8080/"
        },
        "id": "NYiio99dXSTk",
        "outputId": "c9096d4f-5e74-47e1-ff47-84230e1487ab"
      },
      "execution_count": 109,
      "outputs": [
        {
          "output_type": "execute_result",
          "data": {
            "text/plain": [
              "[',', '61', 'old', ',', 'the', 'as', 'a', '29', '.']"
            ]
          },
          "metadata": {},
          "execution_count": 109
        }
      ]
    },
    {
      "cell_type": "code",
      "source": [
        "[w for w in sent7 if len(w) <= 4]"
      ],
      "metadata": {
        "colab": {
          "base_uri": "https://localhost:8080/"
        },
        "id": "ULrR5O0kXT6K",
        "outputId": "0b06a732-fc4f-4a34-e194-53fb891f741e"
      },
      "execution_count": 110,
      "outputs": [
        {
          "output_type": "execute_result",
          "data": {
            "text/plain": [
              "[',', '61', 'old', ',', 'will', 'join', 'the', 'as', 'a', 'Nov.', '29', '.']"
            ]
          },
          "metadata": {},
          "execution_count": 110
        }
      ]
    },
    {
      "cell_type": "code",
      "source": [
        "[w for w in sent7 if len(w) == 4]"
      ],
      "metadata": {
        "colab": {
          "base_uri": "https://localhost:8080/"
        },
        "id": "UWXBmk8RXcGp",
        "outputId": "108ab207-201a-41bf-b86f-4d96c0910e06"
      },
      "execution_count": 111,
      "outputs": [
        {
          "output_type": "execute_result",
          "data": {
            "text/plain": [
              "['will', 'join', 'Nov.']"
            ]
          },
          "metadata": {},
          "execution_count": 111
        }
      ]
    },
    {
      "cell_type": "code",
      "source": [
        "[w for w in sent7 if len(w) != 4]"
      ],
      "metadata": {
        "colab": {
          "base_uri": "https://localhost:8080/"
        },
        "id": "4P9d2oPpXenu",
        "outputId": "e3320e78-26ec-4900-9da4-195716868a07"
      },
      "execution_count": 112,
      "outputs": [
        {
          "output_type": "execute_result",
          "data": {
            "text/plain": [
              "['Pierre',\n",
              " 'Vinken',\n",
              " ',',\n",
              " '61',\n",
              " 'years',\n",
              " 'old',\n",
              " ',',\n",
              " 'the',\n",
              " 'board',\n",
              " 'as',\n",
              " 'a',\n",
              " 'nonexecutive',\n",
              " 'director',\n",
              " '29',\n",
              " '.']"
            ]
          },
          "metadata": {},
          "execution_count": 112
        }
      ]
    },
    {
      "cell_type": "code",
      "source": [
        " sorted([w for w in set(text1) if w.endswith('ableness')])"
      ],
      "metadata": {
        "colab": {
          "base_uri": "https://localhost:8080/"
        },
        "id": "PFmxGvrpXg-1",
        "outputId": "24bd1da2-4255-4e47-9e6c-2344ad4f07ec"
      },
      "execution_count": 113,
      "outputs": [
        {
          "output_type": "execute_result",
          "data": {
            "text/plain": [
              "['comfortableness',\n",
              " 'honourableness',\n",
              " 'immutableness',\n",
              " 'indispensableness',\n",
              " 'indomitableness',\n",
              " 'intolerableness',\n",
              " 'palpableness',\n",
              " 'reasonableness',\n",
              " 'uncomfortableness']"
            ]
          },
          "metadata": {},
          "execution_count": 113
        }
      ]
    },
    {
      "cell_type": "code",
      "source": [
        "sorted([term for term in set(text4) if 'gnt' in term])"
      ],
      "metadata": {
        "colab": {
          "base_uri": "https://localhost:8080/"
        },
        "id": "FkrqCeBRX57c",
        "outputId": "af6ec57a-c588-4f13-d816-18dedb2bf905"
      },
      "execution_count": 114,
      "outputs": [
        {
          "output_type": "execute_result",
          "data": {
            "text/plain": [
              "['Sovereignty', 'sovereignties', 'sovereignty']"
            ]
          },
          "metadata": {},
          "execution_count": 114
        }
      ]
    },
    {
      "cell_type": "code",
      "source": [
        "sorted([item for item in set(text6) if item.istitle()])"
      ],
      "metadata": {
        "colab": {
          "base_uri": "https://localhost:8080/"
        },
        "id": "qC3D967DX9n2",
        "outputId": "c4f044b2-32d6-41e4-f4d4-6488a579519b"
      },
      "execution_count": 115,
      "outputs": [
        {
          "output_type": "execute_result",
          "data": {
            "text/plain": [
              "['A',\n",
              " 'Aaaaaaaaah',\n",
              " 'Aaaaaaaah',\n",
              " 'Aaaaaah',\n",
              " 'Aaaah',\n",
              " 'Aaaaugh',\n",
              " 'Aaagh',\n",
              " 'Aaah',\n",
              " 'Aaauggh',\n",
              " 'Aaaugh',\n",
              " 'Aaauugh',\n",
              " 'Aagh',\n",
              " 'Aah',\n",
              " 'Aauuggghhh',\n",
              " 'Aauuugh',\n",
              " 'Aauuuuugh',\n",
              " 'Aauuuves',\n",
              " 'Action',\n",
              " 'Actually',\n",
              " 'African',\n",
              " 'Ages',\n",
              " 'Aggh',\n",
              " 'Agh',\n",
              " 'Ah',\n",
              " 'Ahh',\n",
              " 'Alice',\n",
              " 'All',\n",
              " 'Allo',\n",
              " 'Almighty',\n",
              " 'Alright',\n",
              " 'Am',\n",
              " 'Amen',\n",
              " 'An',\n",
              " 'Anarcho',\n",
              " 'And',\n",
              " 'Angnor',\n",
              " 'Anthrax',\n",
              " 'Antioch',\n",
              " 'Anybody',\n",
              " 'Anyway',\n",
              " 'Apples',\n",
              " 'Aramaic',\n",
              " 'Are',\n",
              " 'Arimathea',\n",
              " 'Armaments',\n",
              " 'Arthur',\n",
              " 'As',\n",
              " 'Ask',\n",
              " 'Assyria',\n",
              " 'At',\n",
              " 'Attila',\n",
              " 'Augh',\n",
              " 'Autumn',\n",
              " 'Auuuuuuuugh',\n",
              " 'Away',\n",
              " 'Ay',\n",
              " 'Ayy',\n",
              " 'B',\n",
              " 'Back',\n",
              " 'Bad',\n",
              " 'Badon',\n",
              " 'Battle',\n",
              " 'Be',\n",
              " 'Beast',\n",
              " 'Bedevere',\n",
              " 'Bedwere',\n",
              " 'Behold',\n",
              " 'Between',\n",
              " 'Beyond',\n",
              " 'Black',\n",
              " 'Bloody',\n",
              " 'Blue',\n",
              " 'Bon',\n",
              " 'Bones',\n",
              " 'Book',\n",
              " 'Bors',\n",
              " 'Brave',\n",
              " 'Bravely',\n",
              " 'Bravest',\n",
              " 'Bread',\n",
              " 'Bridge',\n",
              " 'Bring',\n",
              " 'Bristol',\n",
              " 'Britain',\n",
              " 'Britons',\n",
              " 'Brother',\n",
              " 'Build',\n",
              " 'Burn',\n",
              " 'But',\n",
              " 'By',\n",
              " 'C',\n",
              " 'Caerbannog',\n",
              " 'Camaaaaaargue',\n",
              " 'Camelot',\n",
              " 'Castle',\n",
              " 'Chapter',\n",
              " 'Charge',\n",
              " 'Chaste',\n",
              " 'Cherries',\n",
              " 'Chicken',\n",
              " 'Chickennn',\n",
              " 'Chop',\n",
              " 'Christ',\n",
              " 'Churches',\n",
              " 'Cider',\n",
              " 'Clark',\n",
              " 'Clear',\n",
              " 'Come',\n",
              " 'Concorde',\n",
              " 'Consult',\n",
              " 'Cornwall',\n",
              " 'Could',\n",
              " 'Course',\n",
              " 'Court',\n",
              " 'Crapper',\n",
              " 'Cut',\n",
              " 'Dappy',\n",
              " 'Death',\n",
              " 'Defeat',\n",
              " 'Dennis',\n",
              " 'Did',\n",
              " 'Didn',\n",
              " 'Dingo',\n",
              " 'Dis',\n",
              " 'Divine',\n",
              " 'Do',\n",
              " 'Doctor',\n",
              " 'Does',\n",
              " 'Don',\n",
              " 'Dragon',\n",
              " 'Dramatically',\n",
              " 'Ecky',\n",
              " 'Ector',\n",
              " 'Eee',\n",
              " 'Eh',\n",
              " 'Enchanter',\n",
              " 'England',\n",
              " 'English',\n",
              " 'Erbert',\n",
              " 'Ere',\n",
              " 'Erm',\n",
              " 'Eternal',\n",
              " 'European',\n",
              " 'Even',\n",
              " 'Every',\n",
              " 'Everything',\n",
              " 'Ewing',\n",
              " 'Exactly',\n",
              " 'Excalibur',\n",
              " 'Excuse',\n",
              " 'Explain',\n",
              " 'Far',\n",
              " 'Farewell',\n",
              " 'Father',\n",
              " 'Fetchez',\n",
              " 'Fiends',\n",
              " 'Fine',\n",
              " 'First',\n",
              " 'Firstly',\n",
              " 'Five',\n",
              " 'Follow',\n",
              " 'For',\n",
              " 'Forgive',\n",
              " 'Forward',\n",
              " 'Found',\n",
              " 'Four',\n",
              " 'France',\n",
              " 'Frank',\n",
              " 'French',\n",
              " 'Gable',\n",
              " 'Galahad',\n",
              " 'Gallahad',\n",
              " 'Gawain',\n",
              " 'Get',\n",
              " 'Go',\n",
              " 'God',\n",
              " 'Good',\n",
              " 'Gorge',\n",
              " 'Grail',\n",
              " 'Great',\n",
              " 'Greetings',\n",
              " 'Grenade',\n",
              " 'Guards',\n",
              " 'Guy',\n",
              " 'Ha',\n",
              " 'Hah',\n",
              " 'Hallo',\n",
              " 'Halt',\n",
              " 'Hand',\n",
              " 'Hang',\n",
              " 'Have',\n",
              " 'Haw',\n",
              " 'He',\n",
              " 'Hee',\n",
              " 'Heee',\n",
              " 'Heh',\n",
              " 'Hello',\n",
              " 'Help',\n",
              " 'Herbert',\n",
              " 'Here',\n",
              " 'Hey',\n",
              " 'Hic',\n",
              " 'Hill',\n",
              " 'Himself',\n",
              " 'His',\n",
              " 'Hiyaah',\n",
              " 'Hiyah',\n",
              " 'Hiyya',\n",
              " 'Hm',\n",
              " 'Hmm',\n",
              " 'Ho',\n",
              " 'Hoa',\n",
              " 'Hold',\n",
              " 'Holy',\n",
              " 'Honestly',\n",
              " 'Hoo',\n",
              " 'Hooray',\n",
              " 'How',\n",
              " 'Huh',\n",
              " 'Hurry',\n",
              " 'Huy',\n",
              " 'Huyah',\n",
              " 'Hya',\n",
              " 'Hyy',\n",
              " 'I',\n",
              " 'Idiom',\n",
              " 'Iesu',\n",
              " 'If',\n",
              " 'Iiiiives',\n",
              " 'Iiiives',\n",
              " 'In',\n",
              " 'Is',\n",
              " 'Isn',\n",
              " 'It',\n",
              " 'Ives',\n",
              " 'Jesus',\n",
              " 'Joseph',\n",
              " 'Just',\n",
              " 'Keep',\n",
              " 'King',\n",
              " 'Knight',\n",
              " 'Knights',\n",
              " 'Lady',\n",
              " 'Lake',\n",
              " 'Lancelot',\n",
              " 'Launcelot',\n",
              " 'Lead',\n",
              " 'Leaving',\n",
              " 'Let',\n",
              " 'Lie',\n",
              " 'Like',\n",
              " 'Listen',\n",
              " 'Loimbard',\n",
              " 'Look',\n",
              " 'Looks',\n",
              " 'Lord',\n",
              " 'Lucky',\n",
              " 'Make',\n",
              " 'Man',\n",
              " 'May',\n",
              " 'Maynard',\n",
              " 'Meanwhile',\n",
              " 'Mercea',\n",
              " 'Message',\n",
              " 'Midget',\n",
              " 'Mind',\n",
              " 'Mine',\n",
              " 'Mmm',\n",
              " 'Monsieur',\n",
              " 'More',\n",
              " 'Morning',\n",
              " 'Most',\n",
              " 'Mother',\n",
              " 'Mud',\n",
              " 'Must',\n",
              " 'My',\n",
              " 'N',\n",
              " 'Nador',\n",
              " 'Nay',\n",
              " 'Neee',\n",
              " 'Never',\n",
              " 'Ni',\n",
              " 'Nine',\n",
              " 'Ninepence',\n",
              " 'No',\n",
              " 'None',\n",
              " 'Not',\n",
              " 'Nothing',\n",
              " 'Now',\n",
              " 'Nu',\n",
              " 'O',\n",
              " 'Of',\n",
              " 'Off',\n",
              " 'Oh',\n",
              " 'Ohh',\n",
              " 'Old',\n",
              " 'Olfin',\n",
              " 'On',\n",
              " 'Once',\n",
              " 'One',\n",
              " 'Ooh',\n",
              " 'Oooh',\n",
              " 'Oooo',\n",
              " 'Oooohoohohooo',\n",
              " 'Oooooooh',\n",
              " 'Open',\n",
              " 'Or',\n",
              " 'Order',\n",
              " 'Other',\n",
              " 'Oui',\n",
              " 'Our',\n",
              " 'Over',\n",
              " 'Ow',\n",
              " 'Packing',\n",
              " 'Patsy',\n",
              " 'Pendragon',\n",
              " 'Peng',\n",
              " 'Perhaps',\n",
              " 'Peril',\n",
              " 'Picture',\n",
              " 'Pie',\n",
              " 'Piglet',\n",
              " 'Pin',\n",
              " 'Please',\n",
              " 'Practice',\n",
              " 'Prepare',\n",
              " 'Prince',\n",
              " 'Princess',\n",
              " 'Providence',\n",
              " 'Psalms',\n",
              " 'Pull',\n",
              " 'Pure',\n",
              " 'Put',\n",
              " 'Quick',\n",
              " 'Quickly',\n",
              " 'Quiet',\n",
              " 'Quite',\n",
              " 'Quoi',\n",
              " 'Rather',\n",
              " 'Really',\n",
              " 'Recently',\n",
              " 'Remove',\n",
              " 'Rheged',\n",
              " 'Ridden',\n",
              " 'Right',\n",
              " 'Riiight',\n",
              " 'Robin',\n",
              " 'Robinson',\n",
              " 'Roger',\n",
              " 'Round',\n",
              " 'Run',\n",
              " 'Running',\n",
              " 'S',\n",
              " 'Said',\n",
              " 'Saint',\n",
              " 'Saxons',\n",
              " 'Say',\n",
              " 'Schools',\n",
              " 'See',\n",
              " 'Seek',\n",
              " 'Shall',\n",
              " 'She',\n",
              " 'Shh',\n",
              " 'Shrubber',\n",
              " 'Shrubberies',\n",
              " 'Shut',\n",
              " 'Silence',\n",
              " 'Silly',\n",
              " 'Since',\n",
              " 'Sir',\n",
              " 'Skip',\n",
              " 'So',\n",
              " 'Sorry',\n",
              " 'Speak',\n",
              " 'Splendid',\n",
              " 'Spring',\n",
              " 'Stand',\n",
              " 'Stay',\n",
              " 'Steady',\n",
              " 'Stop',\n",
              " 'Summer',\n",
              " 'Supposing',\n",
              " 'Supreme',\n",
              " 'Surely',\n",
              " 'Swamp',\n",
              " 'Table',\n",
              " 'Tale',\n",
              " 'Tall',\n",
              " 'Tell',\n",
              " 'Thank',\n",
              " 'That',\n",
              " 'The',\n",
              " 'Thee',\n",
              " 'Then',\n",
              " 'There',\n",
              " 'Therefore',\n",
              " 'They',\n",
              " 'This',\n",
              " 'Those',\n",
              " 'Thou',\n",
              " 'Thpppppt',\n",
              " 'Thppppt',\n",
              " 'Thpppt',\n",
              " 'Thppt',\n",
              " 'Three',\n",
              " 'Throw',\n",
              " 'Thsss',\n",
              " 'Thursday',\n",
              " 'Thy',\n",
              " 'Til',\n",
              " 'Tim',\n",
              " 'Tis',\n",
              " 'To',\n",
              " 'Today',\n",
              " 'Together',\n",
              " 'Too',\n",
              " 'Torment',\n",
              " 'Tower',\n",
              " 'True',\n",
              " 'Try',\n",
              " 'Twenty',\n",
              " 'Two',\n",
              " 'U',\n",
              " 'Uh',\n",
              " 'Uhh',\n",
              " 'Ulk',\n",
              " 'Um',\n",
              " 'Umhm',\n",
              " 'Umm',\n",
              " 'Un',\n",
              " 'Unfortunately',\n",
              " 'Until',\n",
              " 'Use',\n",
              " 'Uther',\n",
              " 'Uugh',\n",
              " 'Uuh',\n",
              " 'Very',\n",
              " 'Victory',\n",
              " 'W',\n",
              " 'Waa',\n",
              " 'Wait',\n",
              " 'Walk',\n",
              " 'Wayy',\n",
              " 'We',\n",
              " 'Welcome',\n",
              " 'Well',\n",
              " 'What',\n",
              " 'When',\n",
              " 'Where',\n",
              " 'Which',\n",
              " 'Who',\n",
              " 'Whoa',\n",
              " 'Why',\n",
              " 'Will',\n",
              " 'Winston',\n",
              " 'Winter',\n",
              " 'With',\n",
              " 'Woa',\n",
              " 'Wood',\n",
              " 'Would',\n",
              " 'Y',\n",
              " 'Yapping',\n",
              " 'Yay',\n",
              " 'Yeaaah',\n",
              " 'Yeaah',\n",
              " 'Yeah',\n",
              " 'Yes',\n",
              " 'You',\n",
              " 'Your',\n",
              " 'Yup',\n",
              " 'Zoot']"
            ]
          },
          "metadata": {},
          "execution_count": 115
        }
      ]
    },
    {
      "cell_type": "code",
      "source": [
        "sorted([item for item in set(sent7) if item.isdigit()])"
      ],
      "metadata": {
        "colab": {
          "base_uri": "https://localhost:8080/"
        },
        "id": "ZWaFbGhUYAKe",
        "outputId": "139577e2-a741-4bc1-efa2-fc11384d0637"
      },
      "execution_count": 116,
      "outputs": [
        {
          "output_type": "execute_result",
          "data": {
            "text/plain": [
              "['29', '61']"
            ]
          },
          "metadata": {},
          "execution_count": 116
        }
      ]
    },
    {
      "cell_type": "code",
      "source": [
        "[len(w) for w in text1]"
      ],
      "metadata": {
        "colab": {
          "base_uri": "https://localhost:8080/"
        },
        "id": "wBPS2_0EYFeS",
        "outputId": "a6220061-1cfc-4228-f79c-b1e889738ebc"
      },
      "execution_count": 117,
      "outputs": [
        {
          "output_type": "execute_result",
          "data": {
            "text/plain": [
              "[1,\n",
              " 4,\n",
              " 4,\n",
              " 2,\n",
              " 6,\n",
              " 8,\n",
              " 4,\n",
              " 1,\n",
              " 9,\n",
              " 1,\n",
              " 1,\n",
              " 8,\n",
              " 2,\n",
              " 1,\n",
              " 4,\n",
              " 11,\n",
              " 5,\n",
              " 2,\n",
              " 1,\n",
              " 7,\n",
              " 6,\n",
              " 1,\n",
              " 3,\n",
              " 4,\n",
              " 5,\n",
              " 2,\n",
              " 10,\n",
              " 2,\n",
              " 4,\n",
              " 1,\n",
              " 5,\n",
              " 1,\n",
              " 4,\n",
              " 1,\n",
              " 3,\n",
              " 5,\n",
              " 1,\n",
              " 1,\n",
              " 3,\n",
              " 3,\n",
              " 3,\n",
              " 1,\n",
              " 2,\n",
              " 3,\n",
              " 4,\n",
              " 7,\n",
              " 3,\n",
              " 3,\n",
              " 8,\n",
              " 3,\n",
              " 8,\n",
              " 1,\n",
              " 4,\n",
              " 1,\n",
              " 5,\n",
              " 12,\n",
              " 1,\n",
              " 9,\n",
              " 11,\n",
              " 4,\n",
              " 3,\n",
              " 3,\n",
              " 3,\n",
              " 5,\n",
              " 2,\n",
              " 3,\n",
              " 3,\n",
              " 5,\n",
              " 7,\n",
              " 2,\n",
              " 3,\n",
              " 5,\n",
              " 1,\n",
              " 2,\n",
              " 5,\n",
              " 2,\n",
              " 4,\n",
              " 3,\n",
              " 3,\n",
              " 8,\n",
              " 1,\n",
              " 2,\n",
              " 7,\n",
              " 6,\n",
              " 8,\n",
              " 3,\n",
              " 2,\n",
              " 3,\n",
              " 9,\n",
              " 1,\n",
              " 1,\n",
              " 5,\n",
              " 3,\n",
              " 4,\n",
              " 2,\n",
              " 4,\n",
              " 2,\n",
              " 6,\n",
              " 6,\n",
              " 1,\n",
              " 3,\n",
              " 2,\n",
              " 5,\n",
              " 4,\n",
              " 2,\n",
              " 4,\n",
              " 4,\n",
              " 1,\n",
              " 5,\n",
              " 1,\n",
              " 4,\n",
              " 2,\n",
              " 2,\n",
              " 2,\n",
              " 6,\n",
              " 2,\n",
              " 3,\n",
              " 6,\n",
              " 7,\n",
              " 3,\n",
              " 1,\n",
              " 7,\n",
              " 9,\n",
              " 1,\n",
              " 3,\n",
              " 6,\n",
              " 1,\n",
              " 1,\n",
              " 5,\n",
              " 6,\n",
              " 5,\n",
              " 6,\n",
              " 3,\n",
              " 13,\n",
              " 2,\n",
              " 3,\n",
              " 4,\n",
              " 1,\n",
              " 3,\n",
              " 7,\n",
              " 4,\n",
              " 5,\n",
              " 2,\n",
              " 3,\n",
              " 4,\n",
              " 2,\n",
              " 2,\n",
              " 8,\n",
              " 1,\n",
              " 5,\n",
              " 1,\n",
              " 3,\n",
              " 2,\n",
              " 1,\n",
              " 3,\n",
              " 3,\n",
              " 1,\n",
              " 4,\n",
              " 1,\n",
              " 4,\n",
              " 6,\n",
              " 2,\n",
              " 5,\n",
              " 4,\n",
              " 9,\n",
              " 2,\n",
              " 7,\n",
              " 1,\n",
              " 3,\n",
              " 2,\n",
              " 3,\n",
              " 1,\n",
              " 5,\n",
              " 2,\n",
              " 6,\n",
              " 2,\n",
              " 7,\n",
              " 2,\n",
              " 2,\n",
              " 7,\n",
              " 1,\n",
              " 1,\n",
              " 10,\n",
              " 1,\n",
              " 5,\n",
              " 1,\n",
              " 3,\n",
              " 2,\n",
              " 2,\n",
              " 4,\n",
              " 11,\n",
              " 4,\n",
              " 3,\n",
              " 3,\n",
              " 1,\n",
              " 3,\n",
              " 3,\n",
              " 1,\n",
              " 6,\n",
              " 1,\n",
              " 1,\n",
              " 1,\n",
              " 1,\n",
              " 1,\n",
              " 4,\n",
              " 1,\n",
              " 3,\n",
              " 1,\n",
              " 2,\n",
              " 4,\n",
              " 1,\n",
              " 2,\n",
              " 6,\n",
              " 2,\n",
              " 2,\n",
              " 10,\n",
              " 1,\n",
              " 1,\n",
              " 10,\n",
              " 5,\n",
              " 1,\n",
              " 5,\n",
              " 1,\n",
              " 5,\n",
              " 1,\n",
              " 5,\n",
              " 1,\n",
              " 5,\n",
              " 1,\n",
              " 5,\n",
              " 1,\n",
              " 5,\n",
              " 1,\n",
              " 5,\n",
              " 1,\n",
              " 6,\n",
              " 1,\n",
              " 3,\n",
              " 1,\n",
              " 5,\n",
              " 1,\n",
              " 4,\n",
              " 1,\n",
              " 7,\n",
              " 1,\n",
              " 5,\n",
              " 1,\n",
              " 9,\n",
              " 1,\n",
              " 5,\n",
              " 1,\n",
              " 7,\n",
              " 1,\n",
              " 7,\n",
              " 1,\n",
              " 6,\n",
              " 1,\n",
              " 7,\n",
              " 1,\n",
              " 7,\n",
              " 1,\n",
              " 5,\n",
              " 1,\n",
              " 4,\n",
              " 1,\n",
              " 4,\n",
              " 1,\n",
              " 5,\n",
              " 1,\n",
              " 5,\n",
              " 1,\n",
              " 4,\n",
              " 1,\n",
              " 4,\n",
              " 1,\n",
              " 11,\n",
              " 1,\n",
              " 8,\n",
              " 1,\n",
              " 8,\n",
              " 2,\n",
              " 1,\n",
              " 3,\n",
              " 1,\n",
              " 3,\n",
              " 1,\n",
              " 9,\n",
              " 2,\n",
              " 2,\n",
              " 4,\n",
              " 2,\n",
              " 4,\n",
              " 4,\n",
              " 4,\n",
              " 4,\n",
              " 11,\n",
              " 8,\n",
              " 3,\n",
              " 4,\n",
              " 1,\n",
              " 4,\n",
              " 2,\n",
              " 1,\n",
              " 4,\n",
              " 5,\n",
              " 2,\n",
              " 1,\n",
              " 3,\n",
              " 1,\n",
              " 3,\n",
              " 7,\n",
              " 2,\n",
              " 4,\n",
              " 4,\n",
              " 7,\n",
              " 3,\n",
              " 4,\n",
              " 8,\n",
              " 3,\n",
              " 6,\n",
              " 1,\n",
              " 6,\n",
              " 2,\n",
              " 3,\n",
              " 5,\n",
              " 1,\n",
              " 7,\n",
              " 2,\n",
              " 8,\n",
              " 6,\n",
              " 9,\n",
              " 2,\n",
              " 6,\n",
              " 2,\n",
              " 5,\n",
              " 7,\n",
              " 4,\n",
              " 2,\n",
              " 3,\n",
              " 4,\n",
              " 10,\n",
              " 1,\n",
              " 6,\n",
              " 2,\n",
              " 7,\n",
              " 1,\n",
              " 9,\n",
              " 3,\n",
              " 4,\n",
              " 3,\n",
              " 1,\n",
              " 2,\n",
              " 5,\n",
              " 4,\n",
              " 2,\n",
              " 5,\n",
              " 1,\n",
              " 4,\n",
              " 3,\n",
              " 8,\n",
              " 1,\n",
              " 8,\n",
              " 5,\n",
              " 10,\n",
              " 1,\n",
              " 7,\n",
              " 9,\n",
              " 1,\n",
              " 2,\n",
              " 5,\n",
              " 8,\n",
              " 1,\n",
              " 3,\n",
              " 9,\n",
              " 6,\n",
              " 8,\n",
              " 1,\n",
              " 3,\n",
              " 4,\n",
              " 2,\n",
              " 1,\n",
              " 2,\n",
              " 8,\n",
              " 3,\n",
              " 7,\n",
              " 7,\n",
              " 9,\n",
              " 1,\n",
              " 2,\n",
              " 4,\n",
              " 2,\n",
              " 3,\n",
              " 5,\n",
              " 4,\n",
              " 9,\n",
              " 1,\n",
              " 5,\n",
              " 8,\n",
              " 3,\n",
              " 6,\n",
              " 8,\n",
              " 2,\n",
              " 12,\n",
              " 1,\n",
              " 2,\n",
              " 9,\n",
              " 1,\n",
              " 8,\n",
              " 4,\n",
              " 1,\n",
              " 1,\n",
              " 3,\n",
              " 4,\n",
              " 2,\n",
              " 4,\n",
              " 3,\n",
              " 4,\n",
              " 13,\n",
              " 4,\n",
              " 1,\n",
              " 7,\n",
              " 1,\n",
              " 7,\n",
              " 1,\n",
              " 3,\n",
              " 4,\n",
              " 2,\n",
              " 9,\n",
              " 1,\n",
              " 2,\n",
              " 4,\n",
              " 7,\n",
              " 3,\n",
              " 11,\n",
              " 1,\n",
              " 9,\n",
              " 3,\n",
              " 3,\n",
              " 1,\n",
              " 2,\n",
              " 4,\n",
              " 4,\n",
              " 4,\n",
              " 1,\n",
              " 4,\n",
              " 5,\n",
              " 2,\n",
              " 1,\n",
              " 3,\n",
              " 1,\n",
              " 3,\n",
              " 1,\n",
              " 5,\n",
              " 11,\n",
              " 1,\n",
              " 2,\n",
              " 1,\n",
              " 4,\n",
              " 9,\n",
              " 2,\n",
              " 4,\n",
              " 8,\n",
              " 1,\n",
              " 6,\n",
              " 5,\n",
              " 5,\n",
              " 2,\n",
              " 4,\n",
              " 2,\n",
              " 4,\n",
              " 5,\n",
              " 4,\n",
              " 4,\n",
              " 4,\n",
              " 1,\n",
              " 3,\n",
              " 3,\n",
              " 4,\n",
              " 4,\n",
              " 4,\n",
              " 6,\n",
              " 5,\n",
              " 2,\n",
              " 3,\n",
              " 4,\n",
              " 1,\n",
              " 6,\n",
              " 1,\n",
              " 3,\n",
              " 4,\n",
              " 4,\n",
              " 3,\n",
              " 9,\n",
              " 5,\n",
              " 2,\n",
              " 3,\n",
              " 1,\n",
              " 3,\n",
              " 4,\n",
              " 4,\n",
              " 1,\n",
              " 8,\n",
              " 1,\n",
              " 3,\n",
              " 1,\n",
              " 3,\n",
              " 4,\n",
              " 9,\n",
              " 4,\n",
              " 5,\n",
              " 1,\n",
              " 3,\n",
              " 3,\n",
              " 2,\n",
              " 4,\n",
              " 7,\n",
              " 1,\n",
              " 4,\n",
              " 4,\n",
              " 4,\n",
              " 3,\n",
              " 5,\n",
              " 7,\n",
              " 1,\n",
              " 3,\n",
              " 2,\n",
              " 3,\n",
              " 10,\n",
              " 10,\n",
              " 7,\n",
              " 2,\n",
              " 4,\n",
              " 2,\n",
              " 2,\n",
              " 1,\n",
              " 3,\n",
              " 1,\n",
              " 4,\n",
              " 1,\n",
              " 3,\n",
              " 2,\n",
              " 3,\n",
              " 4,\n",
              " 3,\n",
              " 4,\n",
              " 5,\n",
              " 2,\n",
              " 4,\n",
              " 2,\n",
              " 6,\n",
              " 3,\n",
              " 5,\n",
              " 1,\n",
              " 2,\n",
              " 2,\n",
              " 4,\n",
              " 3,\n",
              " 4,\n",
              " 5,\n",
              " 2,\n",
              " 3,\n",
              " 4,\n",
              " 2,\n",
              " 9,\n",
              " 1,\n",
              " 5,\n",
              " 4,\n",
              " 1,\n",
              " 5,\n",
              " 5,\n",
              " 3,\n",
              " 7,\n",
              " 5,\n",
              " 3,\n",
              " 3,\n",
              " 9,\n",
              " 3,\n",
              " 2,\n",
              " 1,\n",
              " 3,\n",
              " 4,\n",
              " 4,\n",
              " 4,\n",
              " 5,\n",
              " 3,\n",
              " 3,\n",
              " 5,\n",
              " 2,\n",
              " 3,\n",
              " 5,\n",
              " 1,\n",
              " 4,\n",
              " 4,\n",
              " 4,\n",
              " 6,\n",
              " 1,\n",
              " 3,\n",
              " 4,\n",
              " 7,\n",
              " 3,\n",
              " 4,\n",
              " 4,\n",
              " 6,\n",
              " 3,\n",
              " 8,\n",
              " 3,\n",
              " 3,\n",
              " 5,\n",
              " 1,\n",
              " 7,\n",
              " 7,\n",
              " 1,\n",
              " 3,\n",
              " 6,\n",
              " 8,\n",
              " 2,\n",
              " 4,\n",
              " 1,\n",
              " 8,\n",
              " 7,\n",
              " 1,\n",
              " 7,\n",
              " 1,\n",
              " 3,\n",
              " 7,\n",
              " 1,\n",
              " 7,\n",
              " 4,\n",
              " 6,\n",
              " 1,\n",
              " 4,\n",
              " 2,\n",
              " 6,\n",
              " 3,\n",
              " 10,\n",
              " 6,\n",
              " 8,\n",
              " 2,\n",
              " 5,\n",
              " 1,\n",
              " 2,\n",
              " 5,\n",
              " 6,\n",
              " 14,\n",
              " 7,\n",
              " 1,\n",
              " 8,\n",
              " 1,\n",
              " 1,\n",
              " 3,\n",
              " 3,\n",
              " 7,\n",
              " 5,\n",
              " 6,\n",
              " 2,\n",
              " 2,\n",
              " 7,\n",
              " 1,\n",
              " 1,\n",
              " 9,\n",
              " 6,\n",
              " 1,\n",
              " 4,\n",
              " 2,\n",
              " 5,\n",
              " 5,\n",
              " 3,\n",
              " 1,\n",
              " 3,\n",
              " 5,\n",
              " 5,\n",
              " 3,\n",
              " 4,\n",
              " 2,\n",
              " 2,\n",
              " 5,\n",
              " 2,\n",
              " 2,\n",
              " 3,\n",
              " 1,\n",
              " 1,\n",
              " 3,\n",
              " 3,\n",
              " 4,\n",
              " 3,\n",
              " 8,\n",
              " 1,\n",
              " 5,\n",
              " 4,\n",
              " 2,\n",
              " 7,\n",
              " 2,\n",
              " 5,\n",
              " 2,\n",
              " 2,\n",
              " 5,\n",
              " 1,\n",
              " 1,\n",
              " 5,\n",
              " 2,\n",
              " 3,\n",
              " 5,\n",
              " 1,\n",
              " 5,\n",
              " 2,\n",
              " 4,\n",
              " 9,\n",
              " 4,\n",
              " 4,\n",
              " 4,\n",
              " 4,\n",
              " 2,\n",
              " 4,\n",
              " 7,\n",
              " 2,\n",
              " 2,\n",
              " 6,\n",
              " 1,\n",
              " 1,\n",
              " 2,\n",
              " 4,\n",
              " 3,\n",
              " 1,\n",
              " 3,\n",
              " 4,\n",
              " 4,\n",
              " 3,\n",
              " 4,\n",
              " 1,\n",
              " 3,\n",
              " 5,\n",
              " 1,\n",
              " 3,\n",
              " 6,\n",
              " 5,\n",
              " 1,\n",
              " 5,\n",
              " 6,\n",
              " 9,\n",
              " 3,\n",
              " 8,\n",
              " 7,\n",
              " 1,\n",
              " 4,\n",
              " 9,\n",
              " 4,\n",
              " 7,\n",
              " 7,\n",
              " 1,\n",
              " 3,\n",
              " 2,\n",
              " 5,\n",
              " 4,\n",
              " 3,\n",
              " 6,\n",
              " 4,\n",
              " 2,\n",
              " 2,\n",
              " 3,\n",
              " 3,\n",
              " 2,\n",
              " 2,\n",
              " 6,\n",
              " 1,\n",
              " 3,\n",
              " 4,\n",
              " 5,\n",
              " 6,\n",
              " 7,\n",
              " 6,\n",
              " 6,\n",
              " 3,\n",
              " 5,\n",
              " 2,\n",
              " 4,\n",
              " 7,\n",
              " 1,\n",
              " 1,\n",
              " 5,\n",
              " 1,\n",
              " 2,\n",
              " 2,\n",
              " 5,\n",
              " 1,\n",
              " 4,\n",
              " 1,\n",
              " 2,\n",
              " 5,\n",
              " 1,\n",
              " 4,\n",
              " 2,\n",
              " 4,\n",
              " 3,\n",
              " 13,\n",
              " 4,\n",
              " 4,\n",
              " 5,\n",
              " 7,\n",
              " 2,\n",
              " 3,\n",
              " 1,\n",
              " 3,\n",
              " 9,\n",
              " 2,\n",
              " 3,\n",
              " 10,\n",
              " 4,\n",
              " 2,\n",
              " 3,\n",
              " 6,\n",
              " 2,\n",
              " 2,\n",
              " 7,\n",
              " 1,\n",
              " 1,\n",
              " 8,\n",
              " 1,\n",
              " 1,\n",
              " 6,\n",
              " 1,\n",
              " 1,\n",
              " 3,\n",
              " 6,\n",
              " 3,\n",
              " 8,\n",
              " 3,\n",
              " 4,\n",
              " 3,\n",
              " 3,\n",
              " 7,\n",
              " 6,\n",
              " 4,\n",
              " 3,\n",
              " 1,\n",
              " 5,\n",
              " 5,\n",
              " 3,\n",
              " 6,\n",
              " 3,\n",
              " 11,\n",
              " 6,\n",
              " 7,\n",
              " 1,\n",
              " 4,\n",
              " 2,\n",
              " 2,\n",
              " 4,\n",
              " 2,\n",
              " 6,\n",
              " 2,\n",
              " 4,\n",
              " 5,\n",
              " 2,\n",
              " 6,\n",
              " 2,\n",
              " 4,\n",
              " 2,\n",
              " 2,\n",
              " 7,\n",
              " 1,\n",
              " 1,\n",
              " 5,\n",
              " 1,\n",
              " 1,\n",
              " 8,\n",
              " 3,\n",
              " 2,\n",
              " 9,\n",
              " 3,\n",
              " 4,\n",
              " 2,\n",
              " 3,\n",
              " 3,\n",
              " 1,\n",
              " 4,\n",
              " 5,\n",
              " 7,\n",
              " 1,\n",
              " 5,\n",
              " 4,\n",
              " 6,\n",
              " 3,\n",
              " 5,\n",
              " 8,\n",
              " 2,\n",
              " 3,\n",
              " 3,\n",
              " 1,\n",
              " 8,\n",
              " 1,\n",
              " 5,\n",
              " 3,\n",
              " 6,\n",
              " 1,\n",
              " 3,\n",
              " 3,\n",
              " 2,\n",
              " 1,\n",
              " 4,\n",
              " 9,\n",
              " 4,\n",
              " 1,\n",
              " 3,\n",
              " 4,\n",
              " 4,\n",
              " 7,\n",
              " 2,\n",
              " 1,\n",
              " 4,\n",
              " 1,\n",
              " 7,\n",
              " 1,\n",
              " 7,\n",
              " 3,\n",
              " 5,\n",
              " 2,\n",
              " 3,\n",
              " 5,\n",
              " 1,\n",
              " 3,\n",
              " 7,\n",
              " 3,\n",
              " 3,\n",
              " 6,\n",
              " 3,\n",
              " 4,\n",
              " 1,\n",
              " 4,\n",
              " 2,\n",
              " 2,\n",
              " 5,\n",
              " 1,\n",
              " 1,\n",
              " 6,\n",
              " 1,\n",
              " 1,\n",
              " 3,\n",
              " 4,\n",
              " 7,\n",
              " 2,\n",
              " 1,\n",
              " 2,\n",
              " 7,\n",
              " 4,\n",
              " 7,\n",
              " 4,\n",
              " 4,\n",
              " 1,\n",
              " 4,\n",
              " 2,\n",
              " 8,\n",
              " 5,\n",
              " 1,\n",
              " 6,\n",
              " 1,\n",
              " 5,\n",
              " 3,\n",
              " 5,\n",
              " 2,\n",
              " 4,\n",
              " 5,\n",
              " 5,\n",
              " 3,\n",
              " 5,\n",
              " 5,\n",
              " 1,\n",
              " 2,\n",
              " 5,\n",
              " 2,\n",
              " 7,\n",
              " 4,\n",
              " 2,\n",
              " 3,\n",
              " 4,\n",
              " 1,\n",
              " 3,\n",
              " 3,\n",
              " 4,\n",
              " 6,\n",
              " 4,\n",
              " 7,\n",
              " 2,\n",
              " 3,\n",
              " 3,\n",
              " 7,\n",
              " 1,\n",
              " 2,\n",
              " 5,\n",
              " 4,\n",
              " 4,\n",
              " 5,\n",
              " 1,\n",
              " 5,\n",
              " 1,\n",
              " 4,\n",
              " 5,\n",
              " 5,\n",
              " 4,\n",
              " 1,\n",
              " 2,\n",
              " ...]"
            ]
          },
          "metadata": {},
          "execution_count": 117
        }
      ]
    },
    {
      "cell_type": "code",
      "source": [
        "[w.upper() for w in text1]"
      ],
      "metadata": {
        "colab": {
          "base_uri": "https://localhost:8080/"
        },
        "id": "xXq__a0UYO6E",
        "outputId": "5aa23e54-e058-4001-9960-64d0f6ed05cb"
      },
      "execution_count": 118,
      "outputs": [
        {
          "output_type": "execute_result",
          "data": {
            "text/plain": [
              "['[',\n",
              " 'MOBY',\n",
              " 'DICK',\n",
              " 'BY',\n",
              " 'HERMAN',\n",
              " 'MELVILLE',\n",
              " '1851',\n",
              " ']',\n",
              " 'ETYMOLOGY',\n",
              " '.',\n",
              " '(',\n",
              " 'SUPPLIED',\n",
              " 'BY',\n",
              " 'A',\n",
              " 'LATE',\n",
              " 'CONSUMPTIVE',\n",
              " 'USHER',\n",
              " 'TO',\n",
              " 'A',\n",
              " 'GRAMMAR',\n",
              " 'SCHOOL',\n",
              " ')',\n",
              " 'THE',\n",
              " 'PALE',\n",
              " 'USHER',\n",
              " '--',\n",
              " 'THREADBARE',\n",
              " 'IN',\n",
              " 'COAT',\n",
              " ',',\n",
              " 'HEART',\n",
              " ',',\n",
              " 'BODY',\n",
              " ',',\n",
              " 'AND',\n",
              " 'BRAIN',\n",
              " ';',\n",
              " 'I',\n",
              " 'SEE',\n",
              " 'HIM',\n",
              " 'NOW',\n",
              " '.',\n",
              " 'HE',\n",
              " 'WAS',\n",
              " 'EVER',\n",
              " 'DUSTING',\n",
              " 'HIS',\n",
              " 'OLD',\n",
              " 'LEXICONS',\n",
              " 'AND',\n",
              " 'GRAMMARS',\n",
              " ',',\n",
              " 'WITH',\n",
              " 'A',\n",
              " 'QUEER',\n",
              " 'HANDKERCHIEF',\n",
              " ',',\n",
              " 'MOCKINGLY',\n",
              " 'EMBELLISHED',\n",
              " 'WITH',\n",
              " 'ALL',\n",
              " 'THE',\n",
              " 'GAY',\n",
              " 'FLAGS',\n",
              " 'OF',\n",
              " 'ALL',\n",
              " 'THE',\n",
              " 'KNOWN',\n",
              " 'NATIONS',\n",
              " 'OF',\n",
              " 'THE',\n",
              " 'WORLD',\n",
              " '.',\n",
              " 'HE',\n",
              " 'LOVED',\n",
              " 'TO',\n",
              " 'DUST',\n",
              " 'HIS',\n",
              " 'OLD',\n",
              " 'GRAMMARS',\n",
              " ';',\n",
              " 'IT',\n",
              " 'SOMEHOW',\n",
              " 'MILDLY',\n",
              " 'REMINDED',\n",
              " 'HIM',\n",
              " 'OF',\n",
              " 'HIS',\n",
              " 'MORTALITY',\n",
              " '.',\n",
              " '\"',\n",
              " 'WHILE',\n",
              " 'YOU',\n",
              " 'TAKE',\n",
              " 'IN',\n",
              " 'HAND',\n",
              " 'TO',\n",
              " 'SCHOOL',\n",
              " 'OTHERS',\n",
              " ',',\n",
              " 'AND',\n",
              " 'TO',\n",
              " 'TEACH',\n",
              " 'THEM',\n",
              " 'BY',\n",
              " 'WHAT',\n",
              " 'NAME',\n",
              " 'A',\n",
              " 'WHALE',\n",
              " '-',\n",
              " 'FISH',\n",
              " 'IS',\n",
              " 'TO',\n",
              " 'BE',\n",
              " 'CALLED',\n",
              " 'IN',\n",
              " 'OUR',\n",
              " 'TONGUE',\n",
              " 'LEAVING',\n",
              " 'OUT',\n",
              " ',',\n",
              " 'THROUGH',\n",
              " 'IGNORANCE',\n",
              " ',',\n",
              " 'THE',\n",
              " 'LETTER',\n",
              " 'H',\n",
              " ',',\n",
              " 'WHICH',\n",
              " 'ALMOST',\n",
              " 'ALONE',\n",
              " 'MAKETH',\n",
              " 'THE',\n",
              " 'SIGNIFICATION',\n",
              " 'OF',\n",
              " 'THE',\n",
              " 'WORD',\n",
              " ',',\n",
              " 'YOU',\n",
              " 'DELIVER',\n",
              " 'THAT',\n",
              " 'WHICH',\n",
              " 'IS',\n",
              " 'NOT',\n",
              " 'TRUE',\n",
              " '.\"',\n",
              " '--',\n",
              " 'HACKLUYT',\n",
              " '\"',\n",
              " 'WHALE',\n",
              " '.',\n",
              " '...',\n",
              " 'SW',\n",
              " '.',\n",
              " 'AND',\n",
              " 'DAN',\n",
              " '.',\n",
              " 'HVAL',\n",
              " '.',\n",
              " 'THIS',\n",
              " 'ANIMAL',\n",
              " 'IS',\n",
              " 'NAMED',\n",
              " 'FROM',\n",
              " 'ROUNDNESS',\n",
              " 'OR',\n",
              " 'ROLLING',\n",
              " ';',\n",
              " 'FOR',\n",
              " 'IN',\n",
              " 'DAN',\n",
              " '.',\n",
              " 'HVALT',\n",
              " 'IS',\n",
              " 'ARCHED',\n",
              " 'OR',\n",
              " 'VAULTED',\n",
              " '.\"',\n",
              " '--',\n",
              " 'WEBSTER',\n",
              " \"'\",\n",
              " 'S',\n",
              " 'DICTIONARY',\n",
              " '\"',\n",
              " 'WHALE',\n",
              " '.',\n",
              " '...',\n",
              " 'IT',\n",
              " 'IS',\n",
              " 'MORE',\n",
              " 'IMMEDIATELY',\n",
              " 'FROM',\n",
              " 'THE',\n",
              " 'DUT',\n",
              " '.',\n",
              " 'AND',\n",
              " 'GER',\n",
              " '.',\n",
              " 'WALLEN',\n",
              " ';',\n",
              " 'A',\n",
              " '.',\n",
              " 'S',\n",
              " '.',\n",
              " 'WALW',\n",
              " '-',\n",
              " 'IAN',\n",
              " ',',\n",
              " 'TO',\n",
              " 'ROLL',\n",
              " ',',\n",
              " 'TO',\n",
              " 'WALLOW',\n",
              " '.\"',\n",
              " '--',\n",
              " 'RICHARDSON',\n",
              " \"'\",\n",
              " 'S',\n",
              " 'DICTIONARY',\n",
              " 'KETOS',\n",
              " ',',\n",
              " 'GREEK',\n",
              " '.',\n",
              " 'CETUS',\n",
              " ',',\n",
              " 'LATIN',\n",
              " '.',\n",
              " 'WHOEL',\n",
              " ',',\n",
              " 'ANGLO',\n",
              " '-',\n",
              " 'SAXON',\n",
              " '.',\n",
              " 'HVALT',\n",
              " ',',\n",
              " 'DANISH',\n",
              " '.',\n",
              " 'WAL',\n",
              " ',',\n",
              " 'DUTCH',\n",
              " '.',\n",
              " 'HWAL',\n",
              " ',',\n",
              " 'SWEDISH',\n",
              " '.',\n",
              " 'WHALE',\n",
              " ',',\n",
              " 'ICELANDIC',\n",
              " '.',\n",
              " 'WHALE',\n",
              " ',',\n",
              " 'ENGLISH',\n",
              " '.',\n",
              " 'BALEINE',\n",
              " ',',\n",
              " 'FRENCH',\n",
              " '.',\n",
              " 'BALLENA',\n",
              " ',',\n",
              " 'SPANISH',\n",
              " '.',\n",
              " 'PEKEE',\n",
              " '-',\n",
              " 'NUEE',\n",
              " '-',\n",
              " 'NUEE',\n",
              " ',',\n",
              " 'FEGEE',\n",
              " '.',\n",
              " 'PEKEE',\n",
              " '-',\n",
              " 'NUEE',\n",
              " '-',\n",
              " 'NUEE',\n",
              " ',',\n",
              " 'ERROMANGOAN',\n",
              " '.',\n",
              " 'EXTRACTS',\n",
              " '(',\n",
              " 'SUPPLIED',\n",
              " 'BY',\n",
              " 'A',\n",
              " 'SUB',\n",
              " '-',\n",
              " 'SUB',\n",
              " '-',\n",
              " 'LIBRARIAN',\n",
              " ').',\n",
              " 'IT',\n",
              " 'WILL',\n",
              " 'BE',\n",
              " 'SEEN',\n",
              " 'THAT',\n",
              " 'THIS',\n",
              " 'MERE',\n",
              " 'PAINSTAKING',\n",
              " 'BURROWER',\n",
              " 'AND',\n",
              " 'GRUB',\n",
              " '-',\n",
              " 'WORM',\n",
              " 'OF',\n",
              " 'A',\n",
              " 'POOR',\n",
              " 'DEVIL',\n",
              " 'OF',\n",
              " 'A',\n",
              " 'SUB',\n",
              " '-',\n",
              " 'SUB',\n",
              " 'APPEARS',\n",
              " 'TO',\n",
              " 'HAVE',\n",
              " 'GONE',\n",
              " 'THROUGH',\n",
              " 'THE',\n",
              " 'LONG',\n",
              " 'VATICANS',\n",
              " 'AND',\n",
              " 'STREET',\n",
              " '-',\n",
              " 'STALLS',\n",
              " 'OF',\n",
              " 'THE',\n",
              " 'EARTH',\n",
              " ',',\n",
              " 'PICKING',\n",
              " 'UP',\n",
              " 'WHATEVER',\n",
              " 'RANDOM',\n",
              " 'ALLUSIONS',\n",
              " 'TO',\n",
              " 'WHALES',\n",
              " 'HE',\n",
              " 'COULD',\n",
              " 'ANYWAYS',\n",
              " 'FIND',\n",
              " 'IN',\n",
              " 'ANY',\n",
              " 'BOOK',\n",
              " 'WHATSOEVER',\n",
              " ',',\n",
              " 'SACRED',\n",
              " 'OR',\n",
              " 'PROFANE',\n",
              " '.',\n",
              " 'THEREFORE',\n",
              " 'YOU',\n",
              " 'MUST',\n",
              " 'NOT',\n",
              " ',',\n",
              " 'IN',\n",
              " 'EVERY',\n",
              " 'CASE',\n",
              " 'AT',\n",
              " 'LEAST',\n",
              " ',',\n",
              " 'TAKE',\n",
              " 'THE',\n",
              " 'HIGGLEDY',\n",
              " '-',\n",
              " 'PIGGLEDY',\n",
              " 'WHALE',\n",
              " 'STATEMENTS',\n",
              " ',',\n",
              " 'HOWEVER',\n",
              " 'AUTHENTIC',\n",
              " ',',\n",
              " 'IN',\n",
              " 'THESE',\n",
              " 'EXTRACTS',\n",
              " ',',\n",
              " 'FOR',\n",
              " 'VERITABLE',\n",
              " 'GOSPEL',\n",
              " 'CETOLOGY',\n",
              " '.',\n",
              " 'FAR',\n",
              " 'FROM',\n",
              " 'IT',\n",
              " '.',\n",
              " 'AS',\n",
              " 'TOUCHING',\n",
              " 'THE',\n",
              " 'ANCIENT',\n",
              " 'AUTHORS',\n",
              " 'GENERALLY',\n",
              " ',',\n",
              " 'AS',\n",
              " 'WELL',\n",
              " 'AS',\n",
              " 'THE',\n",
              " 'POETS',\n",
              " 'HERE',\n",
              " 'APPEARING',\n",
              " ',',\n",
              " 'THESE',\n",
              " 'EXTRACTS',\n",
              " 'ARE',\n",
              " 'SOLELY',\n",
              " 'VALUABLE',\n",
              " 'OR',\n",
              " 'ENTERTAINING',\n",
              " ',',\n",
              " 'AS',\n",
              " 'AFFORDING',\n",
              " 'A',\n",
              " 'GLANCING',\n",
              " 'BIRD',\n",
              " \"'\",\n",
              " 'S',\n",
              " 'EYE',\n",
              " 'VIEW',\n",
              " 'OF',\n",
              " 'WHAT',\n",
              " 'HAS',\n",
              " 'BEEN',\n",
              " 'PROMISCUOUSLY',\n",
              " 'SAID',\n",
              " ',',\n",
              " 'THOUGHT',\n",
              " ',',\n",
              " 'FANCIED',\n",
              " ',',\n",
              " 'AND',\n",
              " 'SUNG',\n",
              " 'OF',\n",
              " 'LEVIATHAN',\n",
              " ',',\n",
              " 'BY',\n",
              " 'MANY',\n",
              " 'NATIONS',\n",
              " 'AND',\n",
              " 'GENERATIONS',\n",
              " ',',\n",
              " 'INCLUDING',\n",
              " 'OUR',\n",
              " 'OWN',\n",
              " '.',\n",
              " 'SO',\n",
              " 'FARE',\n",
              " 'THEE',\n",
              " 'WELL',\n",
              " ',',\n",
              " 'POOR',\n",
              " 'DEVIL',\n",
              " 'OF',\n",
              " 'A',\n",
              " 'SUB',\n",
              " '-',\n",
              " 'SUB',\n",
              " ',',\n",
              " 'WHOSE',\n",
              " 'COMMENTATOR',\n",
              " 'I',\n",
              " 'AM',\n",
              " '.',\n",
              " 'THOU',\n",
              " 'BELONGEST',\n",
              " 'TO',\n",
              " 'THAT',\n",
              " 'HOPELESS',\n",
              " ',',\n",
              " 'SALLOW',\n",
              " 'TRIBE',\n",
              " 'WHICH',\n",
              " 'NO',\n",
              " 'WINE',\n",
              " 'OF',\n",
              " 'THIS',\n",
              " 'WORLD',\n",
              " 'WILL',\n",
              " 'EVER',\n",
              " 'WARM',\n",
              " ';',\n",
              " 'AND',\n",
              " 'FOR',\n",
              " 'WHOM',\n",
              " 'EVEN',\n",
              " 'PALE',\n",
              " 'SHERRY',\n",
              " 'WOULD',\n",
              " 'BE',\n",
              " 'TOO',\n",
              " 'ROSY',\n",
              " '-',\n",
              " 'STRONG',\n",
              " ';',\n",
              " 'BUT',\n",
              " 'WITH',\n",
              " 'WHOM',\n",
              " 'ONE',\n",
              " 'SOMETIMES',\n",
              " 'LOVES',\n",
              " 'TO',\n",
              " 'SIT',\n",
              " ',',\n",
              " 'AND',\n",
              " 'FEEL',\n",
              " 'POOR',\n",
              " '-',\n",
              " 'DEVILISH',\n",
              " ',',\n",
              " 'TOO',\n",
              " ';',\n",
              " 'AND',\n",
              " 'GROW',\n",
              " 'CONVIVIAL',\n",
              " 'UPON',\n",
              " 'TEARS',\n",
              " ';',\n",
              " 'AND',\n",
              " 'SAY',\n",
              " 'TO',\n",
              " 'THEM',\n",
              " 'BLUNTLY',\n",
              " ',',\n",
              " 'WITH',\n",
              " 'FULL',\n",
              " 'EYES',\n",
              " 'AND',\n",
              " 'EMPTY',\n",
              " 'GLASSES',\n",
              " ',',\n",
              " 'AND',\n",
              " 'IN',\n",
              " 'NOT',\n",
              " 'ALTOGETHER',\n",
              " 'UNPLEASANT',\n",
              " 'SADNESS',\n",
              " '--',\n",
              " 'GIVE',\n",
              " 'IT',\n",
              " 'UP',\n",
              " ',',\n",
              " 'SUB',\n",
              " '-',\n",
              " 'SUBS',\n",
              " '!',\n",
              " 'FOR',\n",
              " 'BY',\n",
              " 'HOW',\n",
              " 'MUCH',\n",
              " 'THE',\n",
              " 'MORE',\n",
              " 'PAINS',\n",
              " 'YE',\n",
              " 'TAKE',\n",
              " 'TO',\n",
              " 'PLEASE',\n",
              " 'THE',\n",
              " 'WORLD',\n",
              " ',',\n",
              " 'BY',\n",
              " 'SO',\n",
              " 'MUCH',\n",
              " 'THE',\n",
              " 'MORE',\n",
              " 'SHALL',\n",
              " 'YE',\n",
              " 'FOR',\n",
              " 'EVER',\n",
              " 'GO',\n",
              " 'THANKLESS',\n",
              " '!',\n",
              " 'WOULD',\n",
              " 'THAT',\n",
              " 'I',\n",
              " 'COULD',\n",
              " 'CLEAR',\n",
              " 'OUT',\n",
              " 'HAMPTON',\n",
              " 'COURT',\n",
              " 'AND',\n",
              " 'THE',\n",
              " 'TUILERIES',\n",
              " 'FOR',\n",
              " 'YE',\n",
              " '!',\n",
              " 'BUT',\n",
              " 'GULP',\n",
              " 'DOWN',\n",
              " 'YOUR',\n",
              " 'TEARS',\n",
              " 'AND',\n",
              " 'HIE',\n",
              " 'ALOFT',\n",
              " 'TO',\n",
              " 'THE',\n",
              " 'ROYAL',\n",
              " '-',\n",
              " 'MAST',\n",
              " 'WITH',\n",
              " 'YOUR',\n",
              " 'HEARTS',\n",
              " ';',\n",
              " 'FOR',\n",
              " 'YOUR',\n",
              " 'FRIENDS',\n",
              " 'WHO',\n",
              " 'HAVE',\n",
              " 'GONE',\n",
              " 'BEFORE',\n",
              " 'ARE',\n",
              " 'CLEARING',\n",
              " 'OUT',\n",
              " 'THE',\n",
              " 'SEVEN',\n",
              " '-',\n",
              " 'STORIED',\n",
              " 'HEAVENS',\n",
              " ',',\n",
              " 'AND',\n",
              " 'MAKING',\n",
              " 'REFUGEES',\n",
              " 'OF',\n",
              " 'LONG',\n",
              " '-',\n",
              " 'PAMPERED',\n",
              " 'GABRIEL',\n",
              " ',',\n",
              " 'MICHAEL',\n",
              " ',',\n",
              " 'AND',\n",
              " 'RAPHAEL',\n",
              " ',',\n",
              " 'AGAINST',\n",
              " 'YOUR',\n",
              " 'COMING',\n",
              " '.',\n",
              " 'HERE',\n",
              " 'YE',\n",
              " 'STRIKE',\n",
              " 'BUT',\n",
              " 'SPLINTERED',\n",
              " 'HEARTS',\n",
              " 'TOGETHER',\n",
              " '--',\n",
              " 'THERE',\n",
              " ',',\n",
              " 'YE',\n",
              " 'SHALL',\n",
              " 'STRIKE',\n",
              " 'UNSPLINTERABLE',\n",
              " 'GLASSES',\n",
              " '!',\n",
              " 'EXTRACTS',\n",
              " '.',\n",
              " '\"',\n",
              " 'AND',\n",
              " 'GOD',\n",
              " 'CREATED',\n",
              " 'GREAT',\n",
              " 'WHALES',\n",
              " '.\"',\n",
              " '--',\n",
              " 'GENESIS',\n",
              " '.',\n",
              " '\"',\n",
              " 'LEVIATHAN',\n",
              " 'MAKETH',\n",
              " 'A',\n",
              " 'PATH',\n",
              " 'TO',\n",
              " 'SHINE',\n",
              " 'AFTER',\n",
              " 'HIM',\n",
              " ';',\n",
              " 'ONE',\n",
              " 'WOULD',\n",
              " 'THINK',\n",
              " 'THE',\n",
              " 'DEEP',\n",
              " 'TO',\n",
              " 'BE',\n",
              " 'HOARY',\n",
              " '.\"',\n",
              " '--',\n",
              " 'JOB',\n",
              " '.',\n",
              " '\"',\n",
              " 'NOW',\n",
              " 'THE',\n",
              " 'LORD',\n",
              " 'HAD',\n",
              " 'PREPARED',\n",
              " 'A',\n",
              " 'GREAT',\n",
              " 'FISH',\n",
              " 'TO',\n",
              " 'SWALLOW',\n",
              " 'UP',\n",
              " 'JONAH',\n",
              " '.\"',\n",
              " '--',\n",
              " 'JONAH',\n",
              " '.',\n",
              " '\"',\n",
              " 'THERE',\n",
              " 'GO',\n",
              " 'THE',\n",
              " 'SHIPS',\n",
              " ';',\n",
              " 'THERE',\n",
              " 'IS',\n",
              " 'THAT',\n",
              " 'LEVIATHAN',\n",
              " 'WHOM',\n",
              " 'THOU',\n",
              " 'HAST',\n",
              " 'MADE',\n",
              " 'TO',\n",
              " 'PLAY',\n",
              " 'THEREIN',\n",
              " '.\"',\n",
              " '--',\n",
              " 'PSALMS',\n",
              " '.',\n",
              " '\"',\n",
              " 'IN',\n",
              " 'THAT',\n",
              " 'DAY',\n",
              " ',',\n",
              " 'THE',\n",
              " 'LORD',\n",
              " 'WITH',\n",
              " 'HIS',\n",
              " 'SORE',\n",
              " ',',\n",
              " 'AND',\n",
              " 'GREAT',\n",
              " ',',\n",
              " 'AND',\n",
              " 'STRONG',\n",
              " 'SWORD',\n",
              " ',',\n",
              " 'SHALL',\n",
              " 'PUNISH',\n",
              " 'LEVIATHAN',\n",
              " 'THE',\n",
              " 'PIERCING',\n",
              " 'SERPENT',\n",
              " ',',\n",
              " 'EVEN',\n",
              " 'LEVIATHAN',\n",
              " 'THAT',\n",
              " 'CROOKED',\n",
              " 'SERPENT',\n",
              " ';',\n",
              " 'AND',\n",
              " 'HE',\n",
              " 'SHALL',\n",
              " 'SLAY',\n",
              " 'THE',\n",
              " 'DRAGON',\n",
              " 'THAT',\n",
              " 'IS',\n",
              " 'IN',\n",
              " 'THE',\n",
              " 'SEA',\n",
              " '.\"',\n",
              " '--',\n",
              " 'ISAIAH',\n",
              " '\"',\n",
              " 'AND',\n",
              " 'WHAT',\n",
              " 'THING',\n",
              " 'SOEVER',\n",
              " 'BESIDES',\n",
              " 'COMETH',\n",
              " 'WITHIN',\n",
              " 'THE',\n",
              " 'CHAOS',\n",
              " 'OF',\n",
              " 'THIS',\n",
              " 'MONSTER',\n",
              " \"'\",\n",
              " 'S',\n",
              " 'MOUTH',\n",
              " ',',\n",
              " 'BE',\n",
              " 'IT',\n",
              " 'BEAST',\n",
              " ',',\n",
              " 'BOAT',\n",
              " ',',\n",
              " 'OR',\n",
              " 'STONE',\n",
              " ',',\n",
              " 'DOWN',\n",
              " 'IT',\n",
              " 'GOES',\n",
              " 'ALL',\n",
              " 'INCONTINENTLY',\n",
              " 'THAT',\n",
              " 'FOUL',\n",
              " 'GREAT',\n",
              " 'SWALLOW',\n",
              " 'OF',\n",
              " 'HIS',\n",
              " ',',\n",
              " 'AND',\n",
              " 'PERISHETH',\n",
              " 'IN',\n",
              " 'THE',\n",
              " 'BOTTOMLESS',\n",
              " 'GULF',\n",
              " 'OF',\n",
              " 'HIS',\n",
              " 'PAUNCH',\n",
              " '.\"',\n",
              " '--',\n",
              " 'HOLLAND',\n",
              " \"'\",\n",
              " 'S',\n",
              " 'PLUTARCH',\n",
              " \"'\",\n",
              " 'S',\n",
              " 'MORALS',\n",
              " '.',\n",
              " '\"',\n",
              " 'THE',\n",
              " 'INDIAN',\n",
              " 'SEA',\n",
              " 'BREEDETH',\n",
              " 'THE',\n",
              " 'MOST',\n",
              " 'AND',\n",
              " 'THE',\n",
              " 'BIGGEST',\n",
              " 'FISHES',\n",
              " 'THAT',\n",
              " 'ARE',\n",
              " ':',\n",
              " 'AMONG',\n",
              " 'WHICH',\n",
              " 'THE',\n",
              " 'WHALES',\n",
              " 'AND',\n",
              " 'WHIRLPOOLES',\n",
              " 'CALLED',\n",
              " 'BALAENE',\n",
              " ',',\n",
              " 'TAKE',\n",
              " 'UP',\n",
              " 'AS',\n",
              " 'MUCH',\n",
              " 'IN',\n",
              " 'LENGTH',\n",
              " 'AS',\n",
              " 'FOUR',\n",
              " 'ACRES',\n",
              " 'OR',\n",
              " 'ARPENS',\n",
              " 'OF',\n",
              " 'LAND',\n",
              " '.\"',\n",
              " '--',\n",
              " 'HOLLAND',\n",
              " \"'\",\n",
              " 'S',\n",
              " 'PLINY',\n",
              " '.',\n",
              " '\"',\n",
              " 'SCARCELY',\n",
              " 'HAD',\n",
              " 'WE',\n",
              " 'PROCEEDED',\n",
              " 'TWO',\n",
              " 'DAYS',\n",
              " 'ON',\n",
              " 'THE',\n",
              " 'SEA',\n",
              " ',',\n",
              " 'WHEN',\n",
              " 'ABOUT',\n",
              " 'SUNRISE',\n",
              " 'A',\n",
              " 'GREAT',\n",
              " 'MANY',\n",
              " 'WHALES',\n",
              " 'AND',\n",
              " 'OTHER',\n",
              " 'MONSTERS',\n",
              " 'OF',\n",
              " 'THE',\n",
              " 'SEA',\n",
              " ',',\n",
              " 'APPEARED',\n",
              " '.',\n",
              " 'AMONG',\n",
              " 'THE',\n",
              " 'FORMER',\n",
              " ',',\n",
              " 'ONE',\n",
              " 'WAS',\n",
              " 'OF',\n",
              " 'A',\n",
              " 'MOST',\n",
              " 'MONSTROUS',\n",
              " 'SIZE',\n",
              " '.',\n",
              " '...',\n",
              " 'THIS',\n",
              " 'CAME',\n",
              " 'TOWARDS',\n",
              " 'US',\n",
              " ',',\n",
              " 'OPEN',\n",
              " '-',\n",
              " 'MOUTHED',\n",
              " ',',\n",
              " 'RAISING',\n",
              " 'THE',\n",
              " 'WAVES',\n",
              " 'ON',\n",
              " 'ALL',\n",
              " 'SIDES',\n",
              " ',',\n",
              " 'AND',\n",
              " 'BEATING',\n",
              " 'THE',\n",
              " 'SEA',\n",
              " 'BEFORE',\n",
              " 'HIM',\n",
              " 'INTO',\n",
              " 'A',\n",
              " 'FOAM',\n",
              " '.\"',\n",
              " '--',\n",
              " 'TOOKE',\n",
              " \"'\",\n",
              " 'S',\n",
              " 'LUCIAN',\n",
              " '.',\n",
              " '\"',\n",
              " 'THE',\n",
              " 'TRUE',\n",
              " 'HISTORY',\n",
              " '.\"',\n",
              " '\"',\n",
              " 'HE',\n",
              " 'VISITED',\n",
              " 'THIS',\n",
              " 'COUNTRY',\n",
              " 'ALSO',\n",
              " 'WITH',\n",
              " 'A',\n",
              " 'VIEW',\n",
              " 'OF',\n",
              " 'CATCHING',\n",
              " 'HORSE',\n",
              " '-',\n",
              " 'WHALES',\n",
              " ',',\n",
              " 'WHICH',\n",
              " 'HAD',\n",
              " 'BONES',\n",
              " 'OF',\n",
              " 'VERY',\n",
              " 'GREAT',\n",
              " 'VALUE',\n",
              " 'FOR',\n",
              " 'THEIR',\n",
              " 'TEETH',\n",
              " ',',\n",
              " 'OF',\n",
              " 'WHICH',\n",
              " 'HE',\n",
              " 'BROUGHT',\n",
              " 'SOME',\n",
              " 'TO',\n",
              " 'THE',\n",
              " 'KING',\n",
              " '.',\n",
              " '...',\n",
              " 'THE',\n",
              " 'BEST',\n",
              " 'WHALES',\n",
              " 'WERE',\n",
              " 'CATCHED',\n",
              " 'IN',\n",
              " 'HIS',\n",
              " 'OWN',\n",
              " 'COUNTRY',\n",
              " ',',\n",
              " 'OF',\n",
              " 'WHICH',\n",
              " 'SOME',\n",
              " 'WERE',\n",
              " 'FORTY',\n",
              " '-',\n",
              " 'EIGHT',\n",
              " ',',\n",
              " 'SOME',\n",
              " 'FIFTY',\n",
              " 'YARDS',\n",
              " 'LONG',\n",
              " '.',\n",
              " 'HE',\n",
              " ...]"
            ]
          },
          "metadata": {},
          "execution_count": 118
        }
      ]
    },
    {
      "cell_type": "code",
      "source": [
        "len(text1)"
      ],
      "metadata": {
        "colab": {
          "base_uri": "https://localhost:8080/"
        },
        "id": "pXv1smFeYSfQ",
        "outputId": "c6340086-d9fa-446c-fa9e-2bdd795fbb6f"
      },
      "execution_count": 119,
      "outputs": [
        {
          "output_type": "execute_result",
          "data": {
            "text/plain": [
              "260819"
            ]
          },
          "metadata": {},
          "execution_count": 119
        }
      ]
    },
    {
      "cell_type": "code",
      "source": [
        "len(set(text1))"
      ],
      "metadata": {
        "colab": {
          "base_uri": "https://localhost:8080/"
        },
        "id": "qlclFIQIYXXK",
        "outputId": "7dfdbf0c-2db3-457a-8b5c-9fc77c320985"
      },
      "execution_count": 120,
      "outputs": [
        {
          "output_type": "execute_result",
          "data": {
            "text/plain": [
              "19317"
            ]
          },
          "metadata": {},
          "execution_count": 120
        }
      ]
    },
    {
      "cell_type": "code",
      "source": [
        "len(set([word.lower() for word in text1]))"
      ],
      "metadata": {
        "colab": {
          "base_uri": "https://localhost:8080/"
        },
        "id": "vXSgDu0xYY8L",
        "outputId": "4026e8ff-571e-4c55-d575-a42f8ed8bc5c"
      },
      "execution_count": 121,
      "outputs": [
        {
          "output_type": "execute_result",
          "data": {
            "text/plain": [
              "17231"
            ]
          },
          "metadata": {},
          "execution_count": 121
        }
      ]
    },
    {
      "cell_type": "code",
      "source": [
        "len(set([word.lower() for word in text1 if word.isalpha()]))"
      ],
      "metadata": {
        "colab": {
          "base_uri": "https://localhost:8080/"
        },
        "id": "bkT89WGYYbCq",
        "outputId": "5bbee767-2444-45f4-8359-d73de9e0256f"
      },
      "execution_count": 122,
      "outputs": [
        {
          "output_type": "execute_result",
          "data": {
            "text/plain": [
              "16948"
            ]
          },
          "metadata": {},
          "execution_count": 122
        }
      ]
    },
    {
      "cell_type": "code",
      "source": [
        "word = 'cat'"
      ],
      "metadata": {
        "id": "yyofBrRYYcxq"
      },
      "execution_count": 123,
      "outputs": []
    },
    {
      "cell_type": "code",
      "source": [
        "if len(word) < 5:\n",
        "print 'word length is less than 5'"
      ],
      "metadata": {
        "colab": {
          "base_uri": "https://localhost:8080/",
          "height": 106
        },
        "id": "WaWwPLG3Yfin",
        "outputId": "d50ef200-3d42-4d38-83e7-8047287be606"
      },
      "execution_count": 130,
      "outputs": [
        {
          "output_type": "error",
          "ename": "IndentationError",
          "evalue": "expected an indented block after 'if' statement on line 1 (<ipython-input-130-17f5c5a1e7f3>, line 2)",
          "traceback": [
            "\u001b[0;36m  File \u001b[0;32m\"<ipython-input-130-17f5c5a1e7f3>\"\u001b[0;36m, line \u001b[0;32m2\u001b[0m\n\u001b[0;31m    print 'word length is less than 5'\u001b[0m\n\u001b[0m    ^\u001b[0m\n\u001b[0;31mIndentationError\u001b[0m\u001b[0;31m:\u001b[0m expected an indented block after 'if' statement on line 1\n"
          ]
        }
      ]
    },
    {
      "cell_type": "code",
      "source": [],
      "metadata": {
        "id": "OGz6rDIPYjf_"
      },
      "execution_count": null,
      "outputs": []
    }
  ]
}